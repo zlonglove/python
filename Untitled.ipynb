{
 "cells": [
  {
   "cell_type": "code",
   "execution_count": 1,
   "metadata": {},
   "outputs": [],
   "source": [
    "import numpy as np\n",
    "import pandas as pd\n",
    "import matplotlib.pyplot as plt\n",
    "%matplotlib inline"
   ]
  },
  {
   "cell_type": "code",
   "execution_count": 2,
   "metadata": {},
   "outputs": [],
   "source": [
    "data_list=[]\n",
    "for i in range(1,8):\n",
    "    try:\n",
    "        data=pd.read_csv(r'E:\\3cschool\\python_shuju_0\\fangchan\\lianjia{}.csv'.format(i),encoding='gbk')\n",
    "    except:\n",
    "        data=pd.read_csv(r'E:\\3cschool\\python_shuju_0\\fangchan\\lianjia{}.csv'.format(i))\n",
    "    data_list.append(data)"
   ]
  },
  {
   "cell_type": "code",
   "execution_count": 3,
   "metadata": {},
   "outputs": [
    {
     "data": {
      "text/plain": [
       "7"
      ]
     },
     "execution_count": 3,
     "metadata": {},
     "output_type": "execute_result"
    }
   ],
   "source": [
    "len(data_list)"
   ]
  },
  {
   "cell_type": "code",
   "execution_count": 4,
   "metadata": {},
   "outputs": [
    {
     "data": {
      "text/html": [
       "<div>\n",
       "<style scoped>\n",
       "    .dataframe tbody tr th:only-of-type {\n",
       "        vertical-align: middle;\n",
       "    }\n",
       "\n",
       "    .dataframe tbody tr th {\n",
       "        vertical-align: top;\n",
       "    }\n",
       "\n",
       "    .dataframe thead th {\n",
       "        text-align: right;\n",
       "    }\n",
       "</style>\n",
       "<table border=\"1\" class=\"dataframe\">\n",
       "  <thead>\n",
       "    <tr style=\"text-align: right;\">\n",
       "      <th></th>\n",
       "      <th>cjtaoshu</th>\n",
       "      <th>mendian</th>\n",
       "      <th>cjzongjia</th>\n",
       "      <th>zhiwei</th>\n",
       "      <th>haoping</th>\n",
       "      <th>cjdanjia</th>\n",
       "      <th>cjxiaoqu</th>\n",
       "      <th>xingming</th>\n",
       "      <th>cjzhouqi</th>\n",
       "      <th>biaoqian</th>\n",
       "      <th>cjlouceng</th>\n",
       "      <th>cjshijian</th>\n",
       "      <th>congyenianxian</th>\n",
       "      <th>bankuai</th>\n",
       "    </tr>\n",
       "  </thead>\n",
       "  <tbody>\n",
       "    <tr>\n",
       "      <th>0</th>\n",
       "      <td>2</td>\n",
       "      <td>莱圳店</td>\n",
       "      <td>349.0</td>\n",
       "      <td>高级经纪人</td>\n",
       "      <td>100% 20</td>\n",
       "      <td>49659元/平</td>\n",
       "      <td>莱圳家园 1室1厅 70平</td>\n",
       "      <td>马博</td>\n",
       "      <td>58</td>\n",
       "      <td>客户热评</td>\n",
       "      <td>西/高楼层/16层</td>\n",
       "      <td>签约时间：2016-08-04</td>\n",
       "      <td>1-2年</td>\n",
       "      <td>清河</td>\n",
       "    </tr>\n",
       "    <tr>\n",
       "      <th>1</th>\n",
       "      <td>2</td>\n",
       "      <td>莱圳店</td>\n",
       "      <td>190.0</td>\n",
       "      <td>高级经纪人</td>\n",
       "      <td>100% 20</td>\n",
       "      <td>35382元/平</td>\n",
       "      <td>小营东路5号院 2室1厅 53平</td>\n",
       "      <td>马博</td>\n",
       "      <td>58</td>\n",
       "      <td>客户热评</td>\n",
       "      <td>南 北/中楼层/5层</td>\n",
       "      <td>签约时间：2015-12-19</td>\n",
       "      <td>1-2年</td>\n",
       "      <td>清河</td>\n",
       "    </tr>\n",
       "  </tbody>\n",
       "</table>\n",
       "</div>"
      ],
      "text/plain": [
       "   cjtaoshu mendian  cjzongjia zhiwei  haoping  cjdanjia          cjxiaoqu  \\\n",
       "0         2     莱圳店      349.0  高级经纪人  100% 20  49659元/平     莱圳家园 1室1厅 70平   \n",
       "1         2     莱圳店      190.0  高级经纪人  100% 20  35382元/平  小营东路5号院 2室1厅 53平   \n",
       "\n",
       "  xingming cjzhouqi biaoqian   cjlouceng        cjshijian congyenianxian  \\\n",
       "0       马博       58     客户热评   西/高楼层/16层  签约时间：2016-08-04           1-2年   \n",
       "1       马博       58     客户热评  南 北/中楼层/5层  签约时间：2015-12-19           1-2年   \n",
       "\n",
       "  bankuai  \n",
       "0      清河  \n",
       "1      清河  "
      ]
     },
     "execution_count": 4,
     "metadata": {},
     "output_type": "execute_result"
    }
   ],
   "source": [
    "data_list[6].head(2)"
   ]
  },
  {
   "cell_type": "code",
   "execution_count": 5,
   "metadata": {},
   "outputs": [],
   "source": [
    "data=pd.concat(data_list)"
   ]
  },
  {
   "cell_type": "code",
   "execution_count": 6,
   "metadata": {},
   "outputs": [
    {
     "data": {
      "text/html": [
       "<div>\n",
       "<style scoped>\n",
       "    .dataframe tbody tr th:only-of-type {\n",
       "        vertical-align: middle;\n",
       "    }\n",
       "\n",
       "    .dataframe tbody tr th {\n",
       "        vertical-align: top;\n",
       "    }\n",
       "\n",
       "    .dataframe thead th {\n",
       "        text-align: right;\n",
       "    }\n",
       "</style>\n",
       "<table border=\"1\" class=\"dataframe\">\n",
       "  <thead>\n",
       "    <tr style=\"text-align: right;\">\n",
       "      <th></th>\n",
       "      <th>cjtaoshu</th>\n",
       "      <th>mendian</th>\n",
       "      <th>cjzongjia</th>\n",
       "      <th>zhiwei</th>\n",
       "      <th>haoping</th>\n",
       "      <th>cjdanjia</th>\n",
       "      <th>cjxiaoqu</th>\n",
       "      <th>xingming</th>\n",
       "      <th>cjzhouqi</th>\n",
       "      <th>biaoqian</th>\n",
       "      <th>cjlouceng</th>\n",
       "      <th>cjshijian</th>\n",
       "      <th>congyenianxian</th>\n",
       "      <th>bankuai</th>\n",
       "    </tr>\n",
       "  </thead>\n",
       "  <tbody>\n",
       "    <tr>\n",
       "      <th>0</th>\n",
       "      <td>37</td>\n",
       "      <td>红莲北里店</td>\n",
       "      <td>251.0</td>\n",
       "      <td>店经理</td>\n",
       "      <td>97% 141</td>\n",
       "      <td>43997元/平</td>\n",
       "      <td>红莲北里 3室1厅 57平</td>\n",
       "      <td>郭海龙</td>\n",
       "      <td>36</td>\n",
       "      <td>房东信赖;销售达人;带看活跃</td>\n",
       "      <td>南 北/高楼层/6层</td>\n",
       "      <td>签约时间：2015-05-24</td>\n",
       "      <td>4-5年</td>\n",
       "      <td>马连道</td>\n",
       "    </tr>\n",
       "    <tr>\n",
       "      <th>1</th>\n",
       "      <td>37</td>\n",
       "      <td>红莲北里店</td>\n",
       "      <td>159.0</td>\n",
       "      <td>店经理</td>\n",
       "      <td>97% 141</td>\n",
       "      <td>36969元/平</td>\n",
       "      <td>红莲南里 1室1厅 43平</td>\n",
       "      <td>郭海龙</td>\n",
       "      <td>36</td>\n",
       "      <td>房东信赖;销售达人;带看活跃</td>\n",
       "      <td>南/高楼层/7层</td>\n",
       "      <td>签约时间：2015-05-10</td>\n",
       "      <td>4-5年</td>\n",
       "      <td>马连道</td>\n",
       "    </tr>\n",
       "  </tbody>\n",
       "</table>\n",
       "</div>"
      ],
      "text/plain": [
       "   cjtaoshu mendian  cjzongjia zhiwei  haoping  cjdanjia       cjxiaoqu  \\\n",
       "0        37   红莲北里店      251.0    店经理  97% 141  43997元/平  红莲北里 3室1厅 57平   \n",
       "1        37   红莲北里店      159.0    店经理  97% 141  36969元/平  红莲南里 1室1厅 43平   \n",
       "\n",
       "  xingming cjzhouqi        biaoqian   cjlouceng        cjshijian  \\\n",
       "0      郭海龙       36  房东信赖;销售达人;带看活跃  南 北/高楼层/6层  签约时间：2015-05-24   \n",
       "1      郭海龙       36  房东信赖;销售达人;带看活跃    南/高楼层/7层  签约时间：2015-05-10   \n",
       "\n",
       "  congyenianxian bankuai  \n",
       "0           4-5年     马连道  \n",
       "1           4-5年     马连道  "
      ]
     },
     "execution_count": 6,
     "metadata": {},
     "output_type": "execute_result"
    }
   ],
   "source": [
    "data.head(2)"
   ]
  },
  {
   "cell_type": "code",
   "execution_count": 7,
   "metadata": {},
   "outputs": [
    {
     "name": "stdout",
     "output_type": "stream",
     "text": [
      "<class 'pandas.core.frame.DataFrame'>\n",
      "Int64Index: 162228 entries, 0 to 6680\n",
      "Data columns (total 14 columns):\n",
      "cjtaoshu          162228 non-null int64\n",
      "mendian           162214 non-null object\n",
      "cjzongjia         162226 non-null float64\n",
      "zhiwei            162226 non-null object\n",
      "haoping           162226 non-null object\n",
      "cjdanjia          162226 non-null object\n",
      "cjxiaoqu          162226 non-null object\n",
      "xingming          162226 non-null object\n",
      "cjzhouqi          162226 non-null object\n",
      "biaoqian          145553 non-null object\n",
      "cjlouceng         162226 non-null object\n",
      "cjshijian         162226 non-null object\n",
      "congyenianxian    162226 non-null object\n",
      "bankuai           160906 non-null object\n",
      "dtypes: float64(1), int64(1), object(12)\n",
      "memory usage: 18.6+ MB\n"
     ]
    }
   ],
   "source": [
    "data.info()"
   ]
  },
  {
   "cell_type": "code",
   "execution_count": 8,
   "metadata": {},
   "outputs": [
    {
     "data": {
      "text/html": [
       "<div>\n",
       "<style scoped>\n",
       "    .dataframe tbody tr th:only-of-type {\n",
       "        vertical-align: middle;\n",
       "    }\n",
       "\n",
       "    .dataframe tbody tr th {\n",
       "        vertical-align: top;\n",
       "    }\n",
       "\n",
       "    .dataframe thead th {\n",
       "        text-align: right;\n",
       "    }\n",
       "</style>\n",
       "<table border=\"1\" class=\"dataframe\">\n",
       "  <thead>\n",
       "    <tr style=\"text-align: right;\">\n",
       "      <th></th>\n",
       "      <th>cjtaoshu</th>\n",
       "      <th>cjzongjia</th>\n",
       "    </tr>\n",
       "  </thead>\n",
       "  <tbody>\n",
       "    <tr>\n",
       "      <th>count</th>\n",
       "      <td>162228.000000</td>\n",
       "      <td>162226.000000</td>\n",
       "    </tr>\n",
       "    <tr>\n",
       "      <th>mean</th>\n",
       "      <td>29.112200</td>\n",
       "      <td>317.481277</td>\n",
       "    </tr>\n",
       "    <tr>\n",
       "      <th>std</th>\n",
       "      <td>19.607506</td>\n",
       "      <td>207.472106</td>\n",
       "    </tr>\n",
       "    <tr>\n",
       "      <th>min</th>\n",
       "      <td>1.000000</td>\n",
       "      <td>0.000000</td>\n",
       "    </tr>\n",
       "    <tr>\n",
       "      <th>25%</th>\n",
       "      <td>16.000000</td>\n",
       "      <td>190.000000</td>\n",
       "    </tr>\n",
       "    <tr>\n",
       "      <th>50%</th>\n",
       "      <td>26.000000</td>\n",
       "      <td>266.000000</td>\n",
       "    </tr>\n",
       "    <tr>\n",
       "      <th>75%</th>\n",
       "      <td>38.000000</td>\n",
       "      <td>385.000000</td>\n",
       "    </tr>\n",
       "    <tr>\n",
       "      <th>max</th>\n",
       "      <td>186.000000</td>\n",
       "      <td>6000.000000</td>\n",
       "    </tr>\n",
       "  </tbody>\n",
       "</table>\n",
       "</div>"
      ],
      "text/plain": [
       "            cjtaoshu      cjzongjia\n",
       "count  162228.000000  162226.000000\n",
       "mean       29.112200     317.481277\n",
       "std        19.607506     207.472106\n",
       "min         1.000000       0.000000\n",
       "25%        16.000000     190.000000\n",
       "50%        26.000000     266.000000\n",
       "75%        38.000000     385.000000\n",
       "max       186.000000    6000.000000"
      ]
     },
     "execution_count": 8,
     "metadata": {},
     "output_type": "execute_result"
    }
   ],
   "source": [
    "data.describe()"
   ]
  },
  {
   "cell_type": "code",
   "execution_count": 9,
   "metadata": {},
   "outputs": [],
   "source": [
    "#线性回归应用：根据给出的小区/面积/房子布局/楼层/位置等估算出价格"
   ]
  },
  {
   "cell_type": "code",
   "execution_count": 10,
   "metadata": {},
   "outputs": [],
   "source": [
    "data=data[['cjdanjia','cjxiaoqu','cjlouceng','bankuai','xingming','cjzongjia','congyenianxian']]"
   ]
  },
  {
   "cell_type": "code",
   "execution_count": 11,
   "metadata": {},
   "outputs": [
    {
     "data": {
      "text/html": [
       "<div>\n",
       "<style scoped>\n",
       "    .dataframe tbody tr th:only-of-type {\n",
       "        vertical-align: middle;\n",
       "    }\n",
       "\n",
       "    .dataframe tbody tr th {\n",
       "        vertical-align: top;\n",
       "    }\n",
       "\n",
       "    .dataframe thead th {\n",
       "        text-align: right;\n",
       "    }\n",
       "</style>\n",
       "<table border=\"1\" class=\"dataframe\">\n",
       "  <thead>\n",
       "    <tr style=\"text-align: right;\">\n",
       "      <th></th>\n",
       "      <th>cjdanjia</th>\n",
       "      <th>cjxiaoqu</th>\n",
       "      <th>cjlouceng</th>\n",
       "      <th>bankuai</th>\n",
       "      <th>xingming</th>\n",
       "      <th>cjzongjia</th>\n",
       "      <th>congyenianxian</th>\n",
       "    </tr>\n",
       "  </thead>\n",
       "  <tbody>\n",
       "    <tr>\n",
       "      <th>0</th>\n",
       "      <td>43997元/平</td>\n",
       "      <td>红莲北里 3室1厅 57平</td>\n",
       "      <td>南 北/高楼层/6层</td>\n",
       "      <td>马连道</td>\n",
       "      <td>郭海龙</td>\n",
       "      <td>251.0</td>\n",
       "      <td>4-5年</td>\n",
       "    </tr>\n",
       "    <tr>\n",
       "      <th>1</th>\n",
       "      <td>36969元/平</td>\n",
       "      <td>红莲南里 1室1厅 43平</td>\n",
       "      <td>南/高楼层/7层</td>\n",
       "      <td>马连道</td>\n",
       "      <td>郭海龙</td>\n",
       "      <td>159.0</td>\n",
       "      <td>4-5年</td>\n",
       "    </tr>\n",
       "  </tbody>\n",
       "</table>\n",
       "</div>"
      ],
      "text/plain": [
       "   cjdanjia       cjxiaoqu   cjlouceng bankuai xingming  cjzongjia  \\\n",
       "0  43997元/平  红莲北里 3室1厅 57平  南 北/高楼层/6层     马连道      郭海龙      251.0   \n",
       "1  36969元/平  红莲南里 1室1厅 43平    南/高楼层/7层     马连道      郭海龙      159.0   \n",
       "\n",
       "  congyenianxian  \n",
       "0           4-5年  \n",
       "1           4-5年  "
      ]
     },
     "execution_count": 11,
     "metadata": {},
     "output_type": "execute_result"
    }
   ],
   "source": [
    "data.head(2)"
   ]
  },
  {
   "cell_type": "code",
   "execution_count": 12,
   "metadata": {},
   "outputs": [],
   "source": [
    "#处理nan"
   ]
  },
  {
   "cell_type": "code",
   "execution_count": 13,
   "metadata": {},
   "outputs": [
    {
     "data": {
      "text/plain": [
       "cjdanjia             2\n",
       "cjxiaoqu             2\n",
       "cjlouceng            2\n",
       "bankuai           1322\n",
       "xingming             2\n",
       "cjzongjia            2\n",
       "congyenianxian       2\n",
       "dtype: int64"
      ]
     },
     "execution_count": 13,
     "metadata": {},
     "output_type": "execute_result"
    }
   ],
   "source": [
    "data.isnull().sum()"
   ]
  },
  {
   "cell_type": "code",
   "execution_count": 14,
   "metadata": {},
   "outputs": [
    {
     "data": {
      "text/plain": [
       "cjdanjia             0\n",
       "cjxiaoqu             0\n",
       "cjlouceng            0\n",
       "bankuai           1320\n",
       "xingming             0\n",
       "cjzongjia            0\n",
       "congyenianxian       0\n",
       "dtype: int64"
      ]
     },
     "execution_count": 14,
     "metadata": {},
     "output_type": "execute_result"
    }
   ],
   "source": [
    "data.dropna(how='all',inplace=True)\n",
    "(data.isnull()).sum()"
   ]
  },
  {
   "cell_type": "code",
   "execution_count": 15,
   "metadata": {},
   "outputs": [],
   "source": [
    "#重复值"
   ]
  },
  {
   "cell_type": "code",
   "execution_count": 16,
   "metadata": {},
   "outputs": [
    {
     "data": {
      "text/plain": [
       "19754"
      ]
     },
     "execution_count": 16,
     "metadata": {},
     "output_type": "execute_result"
    }
   ],
   "source": [
    "data.duplicated().sum()"
   ]
  },
  {
   "cell_type": "code",
   "execution_count": 17,
   "metadata": {},
   "outputs": [],
   "source": [
    "data.sort_values(by='bankuai',inplace=True)"
   ]
  },
  {
   "cell_type": "code",
   "execution_count": 18,
   "metadata": {},
   "outputs": [],
   "source": [
    "data.drop_duplicates(subset=['cjdanjia','cjxiaoqu','cjlouceng'],inplace=True)"
   ]
  },
  {
   "cell_type": "code",
   "execution_count": 19,
   "metadata": {},
   "outputs": [
    {
     "data": {
      "text/plain": [
       "0"
      ]
     },
     "execution_count": 19,
     "metadata": {},
     "output_type": "execute_result"
    }
   ],
   "source": [
    "data.duplicated().sum()"
   ]
  },
  {
   "cell_type": "code",
   "execution_count": 20,
   "metadata": {},
   "outputs": [
    {
     "data": {
      "text/html": [
       "<div>\n",
       "<style scoped>\n",
       "    .dataframe tbody tr th:only-of-type {\n",
       "        vertical-align: middle;\n",
       "    }\n",
       "\n",
       "    .dataframe tbody tr th {\n",
       "        vertical-align: top;\n",
       "    }\n",
       "\n",
       "    .dataframe thead th {\n",
       "        text-align: right;\n",
       "    }\n",
       "</style>\n",
       "<table border=\"1\" class=\"dataframe\">\n",
       "  <thead>\n",
       "    <tr style=\"text-align: right;\">\n",
       "      <th></th>\n",
       "      <th>cjdanjia</th>\n",
       "      <th>cjxiaoqu</th>\n",
       "      <th>cjlouceng</th>\n",
       "      <th>bankuai</th>\n",
       "      <th>xingming</th>\n",
       "      <th>cjzongjia</th>\n",
       "      <th>congyenianxian</th>\n",
       "    </tr>\n",
       "  </thead>\n",
       "  <tbody>\n",
       "    <tr>\n",
       "      <th>18111</th>\n",
       "      <td>34464元/平</td>\n",
       "      <td>麦子店街 2室1厅 52平</td>\n",
       "      <td>南 北/低楼层/6层</td>\n",
       "      <td>CBD</td>\n",
       "      <td>王海涛</td>\n",
       "      <td>182.0</td>\n",
       "      <td>5年以上</td>\n",
       "    </tr>\n",
       "    <tr>\n",
       "      <th>38119</th>\n",
       "      <td>53131元/平</td>\n",
       "      <td>合生国际花园 2室2厅 104平</td>\n",
       "      <td>南/中楼层/18层</td>\n",
       "      <td>CBD</td>\n",
       "      <td>李铁岗</td>\n",
       "      <td>555.0</td>\n",
       "      <td>4-5年</td>\n",
       "    </tr>\n",
       "    <tr>\n",
       "      <th>38118</th>\n",
       "      <td>55312元/平</td>\n",
       "      <td>富力城B区 3室2厅 148平</td>\n",
       "      <td>东 南/中楼层/12层</td>\n",
       "      <td>CBD</td>\n",
       "      <td>李铁岗</td>\n",
       "      <td>820.0</td>\n",
       "      <td>4-5年</td>\n",
       "    </tr>\n",
       "    <tr>\n",
       "      <th>38117</th>\n",
       "      <td>66485元/平</td>\n",
       "      <td>富力城D区 3室2厅 200平</td>\n",
       "      <td>南 北/低楼层/14层</td>\n",
       "      <td>CBD</td>\n",
       "      <td>李铁岗</td>\n",
       "      <td>1335.0</td>\n",
       "      <td>4-5年</td>\n",
       "    </tr>\n",
       "    <tr>\n",
       "      <th>38116</th>\n",
       "      <td>55738元/平</td>\n",
       "      <td>合生国际花园 2室2厅 103平</td>\n",
       "      <td>南/低楼层/18层</td>\n",
       "      <td>CBD</td>\n",
       "      <td>李铁岗</td>\n",
       "      <td>578.0</td>\n",
       "      <td>4-5年</td>\n",
       "    </tr>\n",
       "  </tbody>\n",
       "</table>\n",
       "</div>"
      ],
      "text/plain": [
       "       cjdanjia          cjxiaoqu    cjlouceng bankuai xingming  cjzongjia  \\\n",
       "18111  34464元/平     麦子店街 2室1厅 52平   南 北/低楼层/6层     CBD      王海涛      182.0   \n",
       "38119  53131元/平  合生国际花园 2室2厅 104平    南/中楼层/18层     CBD      李铁岗      555.0   \n",
       "38118  55312元/平   富力城B区 3室2厅 148平  东 南/中楼层/12层     CBD      李铁岗      820.0   \n",
       "38117  66485元/平   富力城D区 3室2厅 200平  南 北/低楼层/14层     CBD      李铁岗     1335.0   \n",
       "38116  55738元/平  合生国际花园 2室2厅 103平    南/低楼层/18层     CBD      李铁岗      578.0   \n",
       "\n",
       "      congyenianxian  \n",
       "18111           5年以上  \n",
       "38119           4-5年  \n",
       "38118           4-5年  \n",
       "38117           4-5年  \n",
       "38116           4-5年  "
      ]
     },
     "execution_count": 20,
     "metadata": {},
     "output_type": "execute_result"
    }
   ],
   "source": [
    "data.head()"
   ]
  },
  {
   "cell_type": "code",
   "execution_count": 21,
   "metadata": {},
   "outputs": [
    {
     "data": {
      "text/plain": [
       "cjdanjia             0\n",
       "cjxiaoqu             0\n",
       "cjlouceng            0\n",
       "bankuai           1135\n",
       "xingming             0\n",
       "cjzongjia            0\n",
       "congyenianxian       0\n",
       "dtype: int64"
      ]
     },
     "execution_count": 21,
     "metadata": {},
     "output_type": "execute_result"
    }
   ],
   "source": [
    "(data.isnull()).sum()"
   ]
  },
  {
   "cell_type": "code",
   "execution_count": 22,
   "metadata": {},
   "outputs": [
    {
     "name": "stdout",
     "output_type": "stream",
     "text": [
      "<class 'pandas.core.frame.DataFrame'>\n",
      "Int64Index: 142214 entries, 18111 to 6676\n",
      "Data columns (total 7 columns):\n",
      "cjdanjia          142214 non-null object\n",
      "cjxiaoqu          142214 non-null object\n",
      "cjlouceng         142214 non-null object\n",
      "bankuai           141079 non-null object\n",
      "xingming          142214 non-null object\n",
      "cjzongjia         142214 non-null float64\n",
      "congyenianxian    142214 non-null object\n",
      "dtypes: float64(1), object(6)\n",
      "memory usage: 8.7+ MB\n"
     ]
    }
   ],
   "source": [
    "data.info()"
   ]
  },
  {
   "cell_type": "code",
   "execution_count": 23,
   "metadata": {},
   "outputs": [],
   "source": [
    "#线性回归应用：根据给出的小区/面积/房子布局/楼层/位置等估算出价格"
   ]
  },
  {
   "cell_type": "code",
   "execution_count": 24,
   "metadata": {},
   "outputs": [
    {
     "data": {
      "text/html": [
       "<div>\n",
       "<style scoped>\n",
       "    .dataframe tbody tr th:only-of-type {\n",
       "        vertical-align: middle;\n",
       "    }\n",
       "\n",
       "    .dataframe tbody tr th {\n",
       "        vertical-align: top;\n",
       "    }\n",
       "\n",
       "    .dataframe thead th {\n",
       "        text-align: right;\n",
       "    }\n",
       "</style>\n",
       "<table border=\"1\" class=\"dataframe\">\n",
       "  <thead>\n",
       "    <tr style=\"text-align: right;\">\n",
       "      <th></th>\n",
       "      <th>cjdanjia</th>\n",
       "      <th>cjxiaoqu</th>\n",
       "      <th>cjlouceng</th>\n",
       "      <th>bankuai</th>\n",
       "      <th>xingming</th>\n",
       "      <th>cjzongjia</th>\n",
       "      <th>congyenianxian</th>\n",
       "    </tr>\n",
       "  </thead>\n",
       "  <tbody>\n",
       "    <tr>\n",
       "      <th>18111</th>\n",
       "      <td>34464元/平</td>\n",
       "      <td>麦子店街 2室1厅 52平</td>\n",
       "      <td>南 北/低楼层/6层</td>\n",
       "      <td>CBD</td>\n",
       "      <td>王海涛</td>\n",
       "      <td>182.0</td>\n",
       "      <td>5年以上</td>\n",
       "    </tr>\n",
       "    <tr>\n",
       "      <th>38119</th>\n",
       "      <td>53131元/平</td>\n",
       "      <td>合生国际花园 2室2厅 104平</td>\n",
       "      <td>南/中楼层/18层</td>\n",
       "      <td>CBD</td>\n",
       "      <td>李铁岗</td>\n",
       "      <td>555.0</td>\n",
       "      <td>4-5年</td>\n",
       "    </tr>\n",
       "  </tbody>\n",
       "</table>\n",
       "</div>"
      ],
      "text/plain": [
       "       cjdanjia          cjxiaoqu   cjlouceng bankuai xingming  cjzongjia  \\\n",
       "18111  34464元/平     麦子店街 2室1厅 52平  南 北/低楼层/6层     CBD      王海涛      182.0   \n",
       "38119  53131元/平  合生国际花园 2室2厅 104平   南/中楼层/18层     CBD      李铁岗      555.0   \n",
       "\n",
       "      congyenianxian  \n",
       "18111           5年以上  \n",
       "38119           4-5年  "
      ]
     },
     "execution_count": 24,
     "metadata": {},
     "output_type": "execute_result"
    }
   ],
   "source": [
    "data.head(2)"
   ]
  },
  {
   "cell_type": "code",
   "execution_count": 26,
   "metadata": {},
   "outputs": [],
   "source": [
    "data['cjdanjia']=(data.cjdanjia.str.replace('元/平','').astype(np.float32))/10000"
   ]
  },
  {
   "cell_type": "code",
   "execution_count": 27,
   "metadata": {},
   "outputs": [
    {
     "data": {
      "text/plain": [
       "18111    3.4464\n",
       "38119    5.3131\n",
       "38118    5.5312\n",
       "38117    6.6485\n",
       "38116    5.5738\n",
       "Name: cjdanjia, dtype: float32"
      ]
     },
     "execution_count": 27,
     "metadata": {},
     "output_type": "execute_result"
    }
   ],
   "source": [
    "data['cjdanjia'].head()"
   ]
  },
  {
   "cell_type": "code",
   "execution_count": 28,
   "metadata": {},
   "outputs": [],
   "source": [
    "data['cjdanjia']=np.round(data['cjdanjia'],2)"
   ]
  },
  {
   "cell_type": "code",
   "execution_count": 29,
   "metadata": {},
   "outputs": [
    {
     "data": {
      "text/plain": [
       "18111    3.45\n",
       "38119    5.31\n",
       "38118    5.53\n",
       "38117    6.65\n",
       "38116    5.57\n",
       "38115    5.82\n",
       "38114    5.80\n",
       "38113    5.94\n",
       "38112    6.59\n",
       "38111    7.33\n",
       "38110    9.02\n",
       "38109    8.62\n",
       "38108    7.93\n",
       "38107    2.58\n",
       "50857    6.02\n",
       "50856    5.69\n",
       "50855    6.05\n",
       "50854    6.55\n",
       "10329    4.03\n",
       "10328    3.04\n",
       "10327    5.09\n",
       "10326    5.19\n",
       "10325    3.38\n",
       "10324    4.92\n",
       "38120    5.09\n",
       "10323    4.71\n",
       "10321    4.82\n",
       "10320    4.16\n",
       "10319    4.69\n",
       "10318    4.24\n",
       "         ... \n",
       "6639     1.76\n",
       "6640     2.42\n",
       "6641     4.21\n",
       "6642     2.84\n",
       "6643     2.14\n",
       "6644     2.80\n",
       "6645     1.79\n",
       "6646     2.01\n",
       "6647     4.82\n",
       "6650     6.06\n",
       "6651     7.48\n",
       "6654     6.21\n",
       "6655     5.15\n",
       "6660     7.27\n",
       "6661     2.25\n",
       "6662     5.53\n",
       "6663     7.31\n",
       "6664     6.00\n",
       "6665     5.02\n",
       "6666     6.02\n",
       "6667     9.75\n",
       "6668     5.26\n",
       "6669     5.73\n",
       "6670     2.77\n",
       "6671     5.14\n",
       "6672     2.61\n",
       "6673     1.85\n",
       "6674     1.57\n",
       "6675     1.49\n",
       "6676     1.25\n",
       "Name: cjdanjia, Length: 142214, dtype: float32"
      ]
     },
     "execution_count": 29,
     "metadata": {},
     "output_type": "execute_result"
    }
   ],
   "source": [
    "data['cjdanjia']"
   ]
  },
  {
   "cell_type": "code",
   "execution_count": 30,
   "metadata": {},
   "outputs": [
    {
     "data": {
      "text/html": [
       "<div>\n",
       "<style scoped>\n",
       "    .dataframe tbody tr th:only-of-type {\n",
       "        vertical-align: middle;\n",
       "    }\n",
       "\n",
       "    .dataframe tbody tr th {\n",
       "        vertical-align: top;\n",
       "    }\n",
       "\n",
       "    .dataframe thead th {\n",
       "        text-align: right;\n",
       "    }\n",
       "</style>\n",
       "<table border=\"1\" class=\"dataframe\">\n",
       "  <thead>\n",
       "    <tr style=\"text-align: right;\">\n",
       "      <th></th>\n",
       "      <th>cjdanjia</th>\n",
       "      <th>cjxiaoqu</th>\n",
       "      <th>cjlouceng</th>\n",
       "      <th>bankuai</th>\n",
       "      <th>xingming</th>\n",
       "      <th>cjzongjia</th>\n",
       "      <th>congyenianxian</th>\n",
       "    </tr>\n",
       "  </thead>\n",
       "  <tbody>\n",
       "    <tr>\n",
       "      <th>18111</th>\n",
       "      <td>3.45</td>\n",
       "      <td>麦子店街 2室1厅 52平</td>\n",
       "      <td>南 北/低楼层/6层</td>\n",
       "      <td>CBD</td>\n",
       "      <td>王海涛</td>\n",
       "      <td>182.0</td>\n",
       "      <td>5年以上</td>\n",
       "    </tr>\n",
       "    <tr>\n",
       "      <th>38119</th>\n",
       "      <td>5.31</td>\n",
       "      <td>合生国际花园 2室2厅 104平</td>\n",
       "      <td>南/中楼层/18层</td>\n",
       "      <td>CBD</td>\n",
       "      <td>李铁岗</td>\n",
       "      <td>555.0</td>\n",
       "      <td>4-5年</td>\n",
       "    </tr>\n",
       "  </tbody>\n",
       "</table>\n",
       "</div>"
      ],
      "text/plain": [
       "       cjdanjia          cjxiaoqu   cjlouceng bankuai xingming  cjzongjia  \\\n",
       "18111      3.45     麦子店街 2室1厅 52平  南 北/低楼层/6层     CBD      王海涛      182.0   \n",
       "38119      5.31  合生国际花园 2室2厅 104平   南/中楼层/18层     CBD      李铁岗      555.0   \n",
       "\n",
       "      congyenianxian  \n",
       "18111           5年以上  \n",
       "38119           4-5年  "
      ]
     },
     "execution_count": 30,
     "metadata": {},
     "output_type": "execute_result"
    }
   ],
   "source": [
    "data.head(2)"
   ]
  },
  {
   "cell_type": "code",
   "execution_count": 31,
   "metadata": {},
   "outputs": [
    {
     "data": {
      "text/html": [
       "<div>\n",
       "<style scoped>\n",
       "    .dataframe tbody tr th:only-of-type {\n",
       "        vertical-align: middle;\n",
       "    }\n",
       "\n",
       "    .dataframe tbody tr th {\n",
       "        vertical-align: top;\n",
       "    }\n",
       "\n",
       "    .dataframe thead th {\n",
       "        text-align: right;\n",
       "    }\n",
       "</style>\n",
       "<table border=\"1\" class=\"dataframe\">\n",
       "  <thead>\n",
       "    <tr style=\"text-align: right;\">\n",
       "      <th></th>\n",
       "      <th>cjdanjia</th>\n",
       "      <th>cjzongjia</th>\n",
       "    </tr>\n",
       "  </thead>\n",
       "  <tbody>\n",
       "    <tr>\n",
       "      <th>count</th>\n",
       "      <td>142214.000000</td>\n",
       "      <td>142214.000000</td>\n",
       "    </tr>\n",
       "    <tr>\n",
       "      <th>mean</th>\n",
       "      <td>3.872496</td>\n",
       "      <td>317.574765</td>\n",
       "    </tr>\n",
       "    <tr>\n",
       "      <th>std</th>\n",
       "      <td>1.805551</td>\n",
       "      <td>207.120560</td>\n",
       "    </tr>\n",
       "    <tr>\n",
       "      <th>min</th>\n",
       "      <td>0.000000</td>\n",
       "      <td>0.000000</td>\n",
       "    </tr>\n",
       "    <tr>\n",
       "      <th>25%</th>\n",
       "      <td>2.620000</td>\n",
       "      <td>190.000000</td>\n",
       "    </tr>\n",
       "    <tr>\n",
       "      <th>50%</th>\n",
       "      <td>3.510000</td>\n",
       "      <td>266.500000</td>\n",
       "    </tr>\n",
       "    <tr>\n",
       "      <th>75%</th>\n",
       "      <td>4.720000</td>\n",
       "      <td>385.000000</td>\n",
       "    </tr>\n",
       "    <tr>\n",
       "      <th>max</th>\n",
       "      <td>14.990000</td>\n",
       "      <td>6000.000000</td>\n",
       "    </tr>\n",
       "  </tbody>\n",
       "</table>\n",
       "</div>"
      ],
      "text/plain": [
       "            cjdanjia      cjzongjia\n",
       "count  142214.000000  142214.000000\n",
       "mean        3.872496     317.574765\n",
       "std         1.805551     207.120560\n",
       "min         0.000000       0.000000\n",
       "25%         2.620000     190.000000\n",
       "50%         3.510000     266.500000\n",
       "75%         4.720000     385.000000\n",
       "max        14.990000    6000.000000"
      ]
     },
     "execution_count": 31,
     "metadata": {},
     "output_type": "execute_result"
    }
   ],
   "source": [
    "data.describe()"
   ]
  },
  {
   "cell_type": "code",
   "execution_count": 33,
   "metadata": {},
   "outputs": [],
   "source": [
    "data=data[data.cjdanjia>0.5]"
   ]
  },
  {
   "cell_type": "code",
   "execution_count": 36,
   "metadata": {},
   "outputs": [
    {
     "data": {
      "text/plain": [
       "0.51"
      ]
     },
     "execution_count": 36,
     "metadata": {},
     "output_type": "execute_result"
    }
   ],
   "source": [
    "data.cjdanjia.min()"
   ]
  },
  {
   "cell_type": "code",
   "execution_count": 37,
   "metadata": {},
   "outputs": [
    {
     "data": {
      "text/plain": [
       "141154"
      ]
     },
     "execution_count": 37,
     "metadata": {},
     "output_type": "execute_result"
    }
   ],
   "source": [
    "len(data)"
   ]
  },
  {
   "cell_type": "code",
   "execution_count": 38,
   "metadata": {},
   "outputs": [],
   "source": [
    "#cjlouceng分割为两列"
   ]
  },
  {
   "cell_type": "code",
   "execution_count": null,
   "metadata": {},
   "outputs": [],
   "source": []
  }
 ],
 "metadata": {
  "kernelspec": {
   "display_name": "Python 3",
   "language": "python",
   "name": "python3"
  },
  "language_info": {
   "codemirror_mode": {
    "name": "ipython",
    "version": 3
   },
   "file_extension": ".py",
   "mimetype": "text/x-python",
   "name": "python",
   "nbconvert_exporter": "python",
   "pygments_lexer": "ipython3",
   "version": "3.6.4"
  }
 },
 "nbformat": 4,
 "nbformat_minor": 2
}
