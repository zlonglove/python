{
 "cells": [
  {
   "cell_type": "code",
   "execution_count": 2,
   "metadata": {},
   "outputs": [],
   "source": [
    "import pandas as pd\n",
    "import matplotlib.pyplot as plt\n",
    "import numpy as np"
   ]
  },
  {
   "cell_type": "code",
   "execution_count": 3,
   "metadata": {},
   "outputs": [
    {
     "name": "stdout",
     "output_type": "stream",
     "text": [
      "WARNING *** file size (6588115) not 512 + multiple of sector size (512)\n"
     ]
    }
   ],
   "source": [
    "path=r'E:\\公司数据\\20160101-20160630立华销货明细.xls'\n",
    "o=open(path,'rb')\n",
    "data1=pd.read_excel(o)"
   ]
  },
  {
   "cell_type": "code",
   "execution_count": 4,
   "metadata": {},
   "outputs": [
    {
     "data": {
      "text/html": [
       "<div>\n",
       "<style scoped>\n",
       "    .dataframe tbody tr th:only-of-type {\n",
       "        vertical-align: middle;\n",
       "    }\n",
       "\n",
       "    .dataframe tbody tr th {\n",
       "        vertical-align: top;\n",
       "    }\n",
       "\n",
       "    .dataframe thead th {\n",
       "        text-align: right;\n",
       "    }\n",
       "</style>\n",
       "<table border=\"1\" class=\"dataframe\">\n",
       "  <thead>\n",
       "    <tr style=\"text-align: right;\">\n",
       "      <th></th>\n",
       "      <th>客户编号</th>\n",
       "      <th>客户简称</th>\n",
       "      <th>部门</th>\n",
       "      <th>业务员</th>\n",
       "      <th>渠道</th>\n",
       "      <th>类型</th>\n",
       "      <th>地区</th>\n",
       "      <th>国家</th>\n",
       "      <th>路线</th>\n",
       "      <th>其他</th>\n",
       "      <th>...</th>\n",
       "      <th>客户单号</th>\n",
       "      <th>已开票数量</th>\n",
       "      <th>原币价税合计</th>\n",
       "      <th>本币价税合计</th>\n",
       "      <th>批号说明</th>\n",
       "      <th>客户品号</th>\n",
       "      <th>客户品名</th>\n",
       "      <th>客户规格</th>\n",
       "      <th>项目编号</th>\n",
       "      <th>项目名称</th>\n",
       "    </tr>\n",
       "  </thead>\n",
       "  <tbody>\n",
       "    <tr>\n",
       "      <th>0</th>\n",
       "      <td>0008</td>\n",
       "      <td>华电众信</td>\n",
       "      <td>业务三部</td>\n",
       "      <td>张国斌</td>\n",
       "      <td>NaN</td>\n",
       "      <td>NaN</td>\n",
       "      <td>NaN</td>\n",
       "      <td>NaN</td>\n",
       "      <td>NaN</td>\n",
       "      <td>NaN</td>\n",
       "      <td>...</td>\n",
       "      <td>NaN</td>\n",
       "      <td>10.0</td>\n",
       "      <td>75000.0</td>\n",
       "      <td>75000.0</td>\n",
       "      <td>NaN</td>\n",
       "      <td>NaN</td>\n",
       "      <td>NaN</td>\n",
       "      <td>NaN</td>\n",
       "      <td>NaN</td>\n",
       "      <td>NaN</td>\n",
       "    </tr>\n",
       "    <tr>\n",
       "      <th>1</th>\n",
       "      <td>0008</td>\n",
       "      <td>华电众信</td>\n",
       "      <td>业务三部</td>\n",
       "      <td>张国斌</td>\n",
       "      <td>NaN</td>\n",
       "      <td>NaN</td>\n",
       "      <td>NaN</td>\n",
       "      <td>NaN</td>\n",
       "      <td>NaN</td>\n",
       "      <td>NaN</td>\n",
       "      <td>...</td>\n",
       "      <td>NaN</td>\n",
       "      <td>80.0</td>\n",
       "      <td>792000.0</td>\n",
       "      <td>792000.0</td>\n",
       "      <td>NaN</td>\n",
       "      <td>NaN</td>\n",
       "      <td>NaN</td>\n",
       "      <td>NaN</td>\n",
       "      <td>NaN</td>\n",
       "      <td>NaN</td>\n",
       "    </tr>\n",
       "    <tr>\n",
       "      <th>2</th>\n",
       "      <td>0008</td>\n",
       "      <td>华电众信</td>\n",
       "      <td>业务三部</td>\n",
       "      <td>张国斌</td>\n",
       "      <td>NaN</td>\n",
       "      <td>NaN</td>\n",
       "      <td>NaN</td>\n",
       "      <td>NaN</td>\n",
       "      <td>NaN</td>\n",
       "      <td>NaN</td>\n",
       "      <td>...</td>\n",
       "      <td>NaN</td>\n",
       "      <td>20.0</td>\n",
       "      <td>198000.0</td>\n",
       "      <td>198000.0</td>\n",
       "      <td>NaN</td>\n",
       "      <td>NaN</td>\n",
       "      <td>NaN</td>\n",
       "      <td>NaN</td>\n",
       "      <td>NaN</td>\n",
       "      <td>NaN</td>\n",
       "    </tr>\n",
       "    <tr>\n",
       "      <th>3</th>\n",
       "      <td>0008</td>\n",
       "      <td>华电众信</td>\n",
       "      <td>业务三部</td>\n",
       "      <td>张国斌</td>\n",
       "      <td>NaN</td>\n",
       "      <td>NaN</td>\n",
       "      <td>NaN</td>\n",
       "      <td>NaN</td>\n",
       "      <td>NaN</td>\n",
       "      <td>NaN</td>\n",
       "      <td>...</td>\n",
       "      <td>NaN</td>\n",
       "      <td>20.0</td>\n",
       "      <td>198000.0</td>\n",
       "      <td>198000.0</td>\n",
       "      <td>NaN</td>\n",
       "      <td>NaN</td>\n",
       "      <td>NaN</td>\n",
       "      <td>NaN</td>\n",
       "      <td>NaN</td>\n",
       "      <td>NaN</td>\n",
       "    </tr>\n",
       "    <tr>\n",
       "      <th>4</th>\n",
       "      <td>0008</td>\n",
       "      <td>华电众信</td>\n",
       "      <td>业务三部</td>\n",
       "      <td>张国斌</td>\n",
       "      <td>NaN</td>\n",
       "      <td>NaN</td>\n",
       "      <td>NaN</td>\n",
       "      <td>NaN</td>\n",
       "      <td>NaN</td>\n",
       "      <td>NaN</td>\n",
       "      <td>...</td>\n",
       "      <td>NaN</td>\n",
       "      <td>50.0</td>\n",
       "      <td>495000.0</td>\n",
       "      <td>495000.0</td>\n",
       "      <td>NaN</td>\n",
       "      <td>NaN</td>\n",
       "      <td>NaN</td>\n",
       "      <td>NaN</td>\n",
       "      <td>NaN</td>\n",
       "      <td>NaN</td>\n",
       "    </tr>\n",
       "  </tbody>\n",
       "</table>\n",
       "<p>5 rows × 49 columns</p>\n",
       "</div>"
      ],
      "text/plain": [
       "   客户编号  客户简称    部门  业务员  渠道  类型  地区  国家  路线  其他 ...  客户单号 已开票数量    原币价税合计  \\\n",
       "0  0008  华电众信  业务三部  张国斌 NaN NaN NaN NaN NaN NaN ...   NaN  10.0   75000.0   \n",
       "1  0008  华电众信  业务三部  张国斌 NaN NaN NaN NaN NaN NaN ...   NaN  80.0  792000.0   \n",
       "2  0008  华电众信  业务三部  张国斌 NaN NaN NaN NaN NaN NaN ...   NaN  20.0  198000.0   \n",
       "3  0008  华电众信  业务三部  张国斌 NaN NaN NaN NaN NaN NaN ...   NaN  20.0  198000.0   \n",
       "4  0008  华电众信  业务三部  张国斌 NaN NaN NaN NaN NaN NaN ...   NaN  50.0  495000.0   \n",
       "\n",
       "     本币价税合计 批号说明 客户品号 客户品名 客户规格 项目编号 项目名称  \n",
       "0   75000.0  NaN  NaN  NaN  NaN  NaN  NaN  \n",
       "1  792000.0  NaN  NaN  NaN  NaN  NaN  NaN  \n",
       "2  198000.0  NaN  NaN  NaN  NaN  NaN  NaN  \n",
       "3  198000.0  NaN  NaN  NaN  NaN  NaN  NaN  \n",
       "4  495000.0  NaN  NaN  NaN  NaN  NaN  NaN  \n",
       "\n",
       "[5 rows x 49 columns]"
      ]
     },
     "execution_count": 4,
     "metadata": {},
     "output_type": "execute_result"
    }
   ],
   "source": [
    "data1.head()"
   ]
  },
  {
   "cell_type": "code",
   "execution_count": 5,
   "metadata": {},
   "outputs": [],
   "source": [
    "data=data1[['客户简称','部门','业务员','品  号','品  名','规  格','日期','销货数量','单价','毛利率']]"
   ]
  },
  {
   "cell_type": "code",
   "execution_count": 6,
   "metadata": {},
   "outputs": [
    {
     "data": {
      "text/html": [
       "<div>\n",
       "<style scoped>\n",
       "    .dataframe tbody tr th:only-of-type {\n",
       "        vertical-align: middle;\n",
       "    }\n",
       "\n",
       "    .dataframe tbody tr th {\n",
       "        vertical-align: top;\n",
       "    }\n",
       "\n",
       "    .dataframe thead th {\n",
       "        text-align: right;\n",
       "    }\n",
       "</style>\n",
       "<table border=\"1\" class=\"dataframe\">\n",
       "  <thead>\n",
       "    <tr style=\"text-align: right;\">\n",
       "      <th></th>\n",
       "      <th>客户简称</th>\n",
       "      <th>部门</th>\n",
       "      <th>业务员</th>\n",
       "      <th>品  号</th>\n",
       "      <th>品  名</th>\n",
       "      <th>规  格</th>\n",
       "      <th>日期</th>\n",
       "      <th>销货数量</th>\n",
       "      <th>单价</th>\n",
       "      <th>毛利率</th>\n",
       "    </tr>\n",
       "  </thead>\n",
       "  <tbody>\n",
       "    <tr>\n",
       "      <th>0</th>\n",
       "      <td>华电众信</td>\n",
       "      <td>业务三部</td>\n",
       "      <td>张国斌</td>\n",
       "      <td>100102710100</td>\n",
       "      <td>NAP-8865-LX-71整机</td>\n",
       "      <td>网御星云 平台-LV6800塑料面板</td>\n",
       "      <td>2016-06-03</td>\n",
       "      <td>10.0</td>\n",
       "      <td>7500.0</td>\n",
       "      <td>16.94</td>\n",
       "    </tr>\n",
       "    <tr>\n",
       "      <th>1</th>\n",
       "      <td>华电众信</td>\n",
       "      <td>业务三部</td>\n",
       "      <td>张国斌</td>\n",
       "      <td>102302220100</td>\n",
       "      <td>NAP-8860Z-XTTX-22整机</td>\n",
       "      <td>兴唐 2U FW-8860系安电力项目</td>\n",
       "      <td>2016-03-18</td>\n",
       "      <td>80.0</td>\n",
       "      <td>9900.0</td>\n",
       "      <td>38.16</td>\n",
       "    </tr>\n",
       "    <tr>\n",
       "      <th>2</th>\n",
       "      <td>华电众信</td>\n",
       "      <td>业务三部</td>\n",
       "      <td>张国斌</td>\n",
       "      <td>102302220100</td>\n",
       "      <td>NAP-8860Z-XTTX-22整机</td>\n",
       "      <td>兴唐 2U FW-8860系安电力项目</td>\n",
       "      <td>2016-04-19</td>\n",
       "      <td>20.0</td>\n",
       "      <td>9900.0</td>\n",
       "      <td>38.16</td>\n",
       "    </tr>\n",
       "  </tbody>\n",
       "</table>\n",
       "</div>"
      ],
      "text/plain": [
       "   客户简称    部门  业务员          品  号                 品  名                 规  格  \\\n",
       "0  华电众信  业务三部  张国斌  100102710100     NAP-8865-LX-71整机   网御星云 平台-LV6800塑料面板   \n",
       "1  华电众信  业务三部  张国斌  102302220100  NAP-8860Z-XTTX-22整机  兴唐 2U FW-8860系安电力项目   \n",
       "2  华电众信  业务三部  张国斌  102302220100  NAP-8860Z-XTTX-22整机  兴唐 2U FW-8860系安电力项目   \n",
       "\n",
       "           日期  销货数量      单价    毛利率  \n",
       "0  2016-06-03  10.0  7500.0  16.94  \n",
       "1  2016-03-18  80.0  9900.0  38.16  \n",
       "2  2016-04-19  20.0  9900.0  38.16  "
      ]
     },
     "execution_count": 6,
     "metadata": {},
     "output_type": "execute_result"
    }
   ],
   "source": [
    "data.head(3)"
   ]
  },
  {
   "cell_type": "code",
   "execution_count": 7,
   "metadata": {},
   "outputs": [],
   "source": [
    "from datetime import datetime"
   ]
  },
  {
   "cell_type": "code",
   "execution_count": 8,
   "metadata": {},
   "outputs": [
    {
     "data": {
      "image/png": "[encoded data removed]",
      "text/plain": [
       "<matplotlib.figure.Figure at 0x195d77d8be0>"
      ]
     },
     "metadata": {
      "needs_background": "light"
     },
     "output_type": "display_data"
    }
   ],
   "source": [
    "plt.rcParams['font.sans-serif']=['SimHei']\n",
    "data.groupby('业务员')['销货数量'].sum().plot.bar(rot=30,figsize=(15,8))\n",
    "plt.ylabel('销货数量',fontsize=20)\n",
    "plt.xlabel('业务员',fontsize=15)\n",
    "plt.tick_params(labelsize=15)"
   ]
  },
  {
   "cell_type": "code",
   "execution_count": 9,
   "metadata": {},
   "outputs": [
    {
     "data": {
      "text/plain": [
       "业务员\n",
       "何峻       7276.00\n",
       "刘宇思      3270.00\n",
       "刘莹          4.00\n",
       "宋姗姗       901.00\n",
       "张勇亮      6773.00\n",
       "张国斌      1662.00\n",
       "张宇宁      1183.00\n",
       "张彬       3115.00\n",
       "李勇         35.00\n",
       "李延刚     12660.00\n",
       "李玮      88886.00\n",
       "杨天伟    649055.35\n",
       "杨恒       3745.00\n",
       "江海柄       732.00\n",
       "沈宇林      4546.00\n",
       "王建中      1828.00\n",
       "程志         43.00\n",
       "苏冠群      2136.00\n",
       "赵晓静     49200.14\n",
       "郝振江       -20.00\n",
       "陈健忠       -34.00\n",
       "Name: 销货数量, dtype: float64"
      ]
     },
     "execution_count": 9,
     "metadata": {},
     "output_type": "execute_result"
    }
   ],
   "source": [
    "data2=data.groupby('业务员')['销货数量'].sum()\n",
    "data2"
   ]
  },
  {
   "cell_type": "code",
   "execution_count": 10,
   "metadata": {
    "scrolled": true
   },
   "outputs": [
    {
     "data": {
      "text/html": [
       "<div>\n",
       "<style scoped>\n",
       "    .dataframe tbody tr th:only-of-type {\n",
       "        vertical-align: middle;\n",
       "    }\n",
       "\n",
       "    .dataframe tbody tr th {\n",
       "        vertical-align: top;\n",
       "    }\n",
       "\n",
       "    .dataframe thead th {\n",
       "        text-align: right;\n",
       "    }\n",
       "</style>\n",
       "<table border=\"1\" class=\"dataframe\">\n",
       "  <thead>\n",
       "    <tr style=\"text-align: right;\">\n",
       "      <th></th>\n",
       "      <th>客户简称</th>\n",
       "      <th>部门</th>\n",
       "      <th>业务员</th>\n",
       "      <th>品  号</th>\n",
       "      <th>品  名</th>\n",
       "      <th>规  格</th>\n",
       "      <th>日期</th>\n",
       "      <th>销货数量</th>\n",
       "      <th>单价</th>\n",
       "      <th>毛利率</th>\n",
       "    </tr>\n",
       "  </thead>\n",
       "  <tbody>\n",
       "    <tr>\n",
       "      <th>3117</th>\n",
       "      <td>其它</td>\n",
       "      <td>MIS</td>\n",
       "      <td>杨天伟</td>\n",
       "      <td>200025010000</td>\n",
       "      <td>&amp;机箱</td>\n",
       "      <td>LEC-3012AU4F2 光口散热 铝soho 170*69*127.6mm</td>\n",
       "      <td>2016-01-01</td>\n",
       "      <td>22.0</td>\n",
       "      <td>270.0</td>\n",
       "      <td>0.0</td>\n",
       "    </tr>\n",
       "    <tr>\n",
       "      <th>3118</th>\n",
       "      <td>其它</td>\n",
       "      <td>MIS</td>\n",
       "      <td>杨天伟</td>\n",
       "      <td>200025010010</td>\n",
       "      <td>&amp;机箱</td>\n",
       "      <td>LEC-3012AU4F2 2SFP光2电4串 铝soho 170*69*127.6mm</td>\n",
       "      <td>2016-01-01</td>\n",
       "      <td>28.0</td>\n",
       "      <td>270.0</td>\n",
       "      <td>100.0</td>\n",
       "    </tr>\n",
       "    <tr>\n",
       "      <th>3119</th>\n",
       "      <td>其它</td>\n",
       "      <td>MIS</td>\n",
       "      <td>杨天伟</td>\n",
       "      <td>200030120000</td>\n",
       "      <td>机箱</td>\n",
       "      <td>LEC-3012标准品</td>\n",
       "      <td>2016-01-01</td>\n",
       "      <td>148.0</td>\n",
       "      <td>225.0</td>\n",
       "      <td>0.0</td>\n",
       "    </tr>\n",
       "    <tr>\n",
       "      <th>3120</th>\n",
       "      <td>其它</td>\n",
       "      <td>MIS</td>\n",
       "      <td>杨天伟</td>\n",
       "      <td>200030120000</td>\n",
       "      <td>机箱</td>\n",
       "      <td>LEC-3012标准品</td>\n",
       "      <td>2016-01-01</td>\n",
       "      <td>28.0</td>\n",
       "      <td>225.0</td>\n",
       "      <td>0.0</td>\n",
       "    </tr>\n",
       "    <tr>\n",
       "      <th>3121</th>\n",
       "      <td>其它</td>\n",
       "      <td>MIS</td>\n",
       "      <td>杨天伟</td>\n",
       "      <td>200030700000</td>\n",
       "      <td>机箱</td>\n",
       "      <td>LEC-3070 机箱</td>\n",
       "      <td>2016-01-01</td>\n",
       "      <td>5.0</td>\n",
       "      <td>195.0</td>\n",
       "      <td>0.0</td>\n",
       "    </tr>\n",
       "  </tbody>\n",
       "</table>\n",
       "</div>"
      ],
      "text/plain": [
       "     客户简称   部门  业务员          品  号 品  名  \\\n",
       "3117   其它  MIS  杨天伟  200025010000  &机箱   \n",
       "3118   其它  MIS  杨天伟  200025010010  &机箱   \n",
       "3119   其它  MIS  杨天伟  200030120000   机箱   \n",
       "3120   其它  MIS  杨天伟  200030120000   机箱   \n",
       "3121   其它  MIS  杨天伟  200030700000   机箱   \n",
       "\n",
       "                                              规  格          日期   销货数量     单价  \\\n",
       "3117       LEC-3012AU4F2 光口散热 铝soho 170*69*127.6mm  2016-01-01   22.0  270.0   \n",
       "3118  LEC-3012AU4F2 2SFP光2电4串 铝soho 170*69*127.6mm  2016-01-01   28.0  270.0   \n",
       "3119                                   LEC-3012标准品  2016-01-01  148.0  225.0   \n",
       "3120                                   LEC-3012标准品  2016-01-01   28.0  225.0   \n",
       "3121                                   LEC-3070 机箱  2016-01-01    5.0  195.0   \n",
       "\n",
       "        毛利率  \n",
       "3117    0.0  \n",
       "3118  100.0  \n",
       "3119    0.0  \n",
       "3120    0.0  \n",
       "3121    0.0  "
      ]
     },
     "execution_count": 10,
     "metadata": {},
     "output_type": "execute_result"
    }
   ],
   "source": [
    "data[data['业务员'].str.contains('杨天伟')].head()"
   ]
  },
  {
   "cell_type": "code",
   "execution_count": 11,
   "metadata": {
    "scrolled": true
   },
   "outputs": [
    {
     "name": "stdout",
     "output_type": "stream",
     "text": [
      "<class 'pandas.core.frame.DataFrame'>\n",
      "RangeIndex: 6833 entries, 0 to 6832\n",
      "Data columns (total 10 columns):\n",
      "客户简称    6833 non-null object\n",
      "部门      6833 non-null object\n",
      "业务员     6833 non-null object\n",
      "品  号    6833 non-null object\n",
      "品  名    6833 non-null object\n",
      "规  格    6802 non-null object\n",
      "日期      6833 non-null object\n",
      "销货数量    6833 non-null float64\n",
      "单价      6833 non-null float64\n",
      "毛利率     6833 non-null float64\n",
      "dtypes: float64(3), object(7)\n",
      "memory usage: 533.9+ KB\n"
     ]
    }
   ],
   "source": [
    "data.info()"
   ]
  },
  {
   "cell_type": "code",
   "execution_count": 12,
   "metadata": {},
   "outputs": [
    {
     "data": {
      "text/plain": [
       "0        7500\n",
       "1        9900\n",
       "2        9900\n",
       "3        9900\n",
       "4        9900\n",
       "5        9900\n",
       "6        7600\n",
       "7       23120\n",
       "8       25600\n",
       "9       25600\n",
       "10       2000\n",
       "11      16300\n",
       "12      10200\n",
       "13       4000\n",
       "14       4000\n",
       "15       7500\n",
       "16       9850\n",
       "17      10500\n",
       "18      48900\n",
       "19      48900\n",
       "20       3180\n",
       "21       6650\n",
       "22       6650\n",
       "23       6650\n",
       "24       6650\n",
       "25      19600\n",
       "26      19600\n",
       "27      19600\n",
       "28      11000\n",
       "29      11000\n",
       "        ...  \n",
       "6803        1\n",
       "6804        2\n",
       "6805      850\n",
       "6806      105\n",
       "6807       37\n",
       "6808       24\n",
       "6809        0\n",
       "6810       35\n",
       "6811        0\n",
       "6812        0\n",
       "6813       76\n",
       "6814        0\n",
       "6815        6\n",
       "6816        6\n",
       "6817       18\n",
       "6818        1\n",
       "6819     1204\n",
       "6820     1408\n",
       "6821     2299\n",
       "6822     2466\n",
       "6823     3723\n",
       "6824     3723\n",
       "6825     1249\n",
       "6826      976\n",
       "6827     1238\n",
       "6828      889\n",
       "6829      731\n",
       "6830      407\n",
       "6831      407\n",
       "6832      407\n",
       "Name: 单价, Length: 6833, dtype: int32"
      ]
     },
     "execution_count": 12,
     "metadata": {},
     "output_type": "execute_result"
    }
   ],
   "source": [
    "data['单价'].astype(np.int32)"
   ]
  },
  {
   "cell_type": "code",
   "execution_count": 13,
   "metadata": {},
   "outputs": [
    {
     "data": {
      "text/plain": [
       "0          10\n",
       "1          80\n",
       "2          20\n",
       "3          20\n",
       "4          50\n",
       "5          30\n",
       "6           2\n",
       "7          19\n",
       "8          22\n",
       "9           9\n",
       "10         10\n",
       "11          4\n",
       "12         10\n",
       "13         20\n",
       "14         20\n",
       "15         20\n",
       "16          5\n",
       "17         20\n",
       "18          3\n",
       "19          3\n",
       "20         80\n",
       "21         30\n",
       "22         25\n",
       "23         30\n",
       "24         25\n",
       "25         10\n",
       "26          9\n",
       "27         16\n",
       "28         10\n",
       "29         25\n",
       "        ...  \n",
       "6803       42\n",
       "6804        6\n",
       "6805       60\n",
       "6806        2\n",
       "6807        6\n",
       "6808       20\n",
       "6809    40000\n",
       "6810      220\n",
       "6811    18200\n",
       "6812     3000\n",
       "6813       30\n",
       "6814       89\n",
       "6815       10\n",
       "6816        2\n",
       "6817       12\n",
       "6818      317\n",
       "6819        9\n",
       "6820      100\n",
       "6821        1\n",
       "6822      102\n",
       "6823       51\n",
       "6824        1\n",
       "6825       50\n",
       "6826      100\n",
       "6827       10\n",
       "6828       50\n",
       "6829       50\n",
       "6830        1\n",
       "6831       15\n",
       "6832        1\n",
       "Name: 销货数量, Length: 6833, dtype: int32"
      ]
     },
     "execution_count": 13,
     "metadata": {},
     "output_type": "execute_result"
    }
   ],
   "source": [
    "data['销货数量'].astype(np.int32)"
   ]
  },
  {
   "cell_type": "code",
   "execution_count": 14,
   "metadata": {
    "scrolled": false
   },
   "outputs": [
    {
     "name": "stdout",
     "output_type": "stream",
     "text": [
      "<class 'pandas.core.frame.DataFrame'>\n",
      "RangeIndex: 6833 entries, 0 to 6832\n",
      "Data columns (total 10 columns):\n",
      "客户简称    6833 non-null object\n",
      "部门      6833 non-null object\n",
      "业务员     6833 non-null object\n",
      "品  号    6833 non-null object\n",
      "品  名    6833 non-null object\n",
      "规  格    6802 non-null object\n",
      "日期      6833 non-null object\n",
      "销货数量    6833 non-null float64\n",
      "单价      6833 non-null float64\n",
      "毛利率     6833 non-null float64\n",
      "dtypes: float64(3), object(7)\n",
      "memory usage: 533.9+ KB\n"
     ]
    }
   ],
   "source": [
    "data.info()"
   ]
  },
  {
   "cell_type": "code",
   "execution_count": 15,
   "metadata": {},
   "outputs": [
    {
     "data": {
      "text/html": [
       "<div>\n",
       "<style scoped>\n",
       "    .dataframe tbody tr th:only-of-type {\n",
       "        vertical-align: middle;\n",
       "    }\n",
       "\n",
       "    .dataframe tbody tr th {\n",
       "        vertical-align: top;\n",
       "    }\n",
       "\n",
       "    .dataframe thead th {\n",
       "        text-align: right;\n",
       "    }\n",
       "</style>\n",
       "<table border=\"1\" class=\"dataframe\">\n",
       "  <thead>\n",
       "    <tr style=\"text-align: right;\">\n",
       "      <th></th>\n",
       "      <th>客户简称</th>\n",
       "      <th>部门</th>\n",
       "      <th>业务员</th>\n",
       "      <th>品  号</th>\n",
       "      <th>品  名</th>\n",
       "      <th>规  格</th>\n",
       "      <th>日期</th>\n",
       "      <th>销货数量</th>\n",
       "      <th>单价</th>\n",
       "      <th>毛利率</th>\n",
       "    </tr>\n",
       "  </thead>\n",
       "  <tbody>\n",
       "    <tr>\n",
       "      <th>0</th>\n",
       "      <td>华电众信</td>\n",
       "      <td>业务三部</td>\n",
       "      <td>张国斌</td>\n",
       "      <td>100102710100</td>\n",
       "      <td>NAP-8865-LX-71整机</td>\n",
       "      <td>网御星云 平台-LV6800塑料面板</td>\n",
       "      <td>2016-06-03</td>\n",
       "      <td>10.0</td>\n",
       "      <td>7500.0</td>\n",
       "      <td>16.94</td>\n",
       "    </tr>\n",
       "    <tr>\n",
       "      <th>1</th>\n",
       "      <td>华电众信</td>\n",
       "      <td>业务三部</td>\n",
       "      <td>张国斌</td>\n",
       "      <td>102302220100</td>\n",
       "      <td>NAP-8860Z-XTTX-22整机</td>\n",
       "      <td>兴唐 2U FW-8860系安电力项目</td>\n",
       "      <td>2016-03-18</td>\n",
       "      <td>80.0</td>\n",
       "      <td>9900.0</td>\n",
       "      <td>38.16</td>\n",
       "    </tr>\n",
       "    <tr>\n",
       "      <th>2</th>\n",
       "      <td>华电众信</td>\n",
       "      <td>业务三部</td>\n",
       "      <td>张国斌</td>\n",
       "      <td>102302220100</td>\n",
       "      <td>NAP-8860Z-XTTX-22整机</td>\n",
       "      <td>兴唐 2U FW-8860系安电力项目</td>\n",
       "      <td>2016-04-19</td>\n",
       "      <td>20.0</td>\n",
       "      <td>9900.0</td>\n",
       "      <td>38.16</td>\n",
       "    </tr>\n",
       "  </tbody>\n",
       "</table>\n",
       "</div>"
      ],
      "text/plain": [
       "   客户简称    部门  业务员          品  号                 品  名                 规  格  \\\n",
       "0  华电众信  业务三部  张国斌  100102710100     NAP-8865-LX-71整机   网御星云 平台-LV6800塑料面板   \n",
       "1  华电众信  业务三部  张国斌  102302220100  NAP-8860Z-XTTX-22整机  兴唐 2U FW-8860系安电力项目   \n",
       "2  华电众信  业务三部  张国斌  102302220100  NAP-8860Z-XTTX-22整机  兴唐 2U FW-8860系安电力项目   \n",
       "\n",
       "           日期  销货数量      单价    毛利率  \n",
       "0  2016-06-03  10.0  7500.0  16.94  \n",
       "1  2016-03-18  80.0  9900.0  38.16  \n",
       "2  2016-04-19  20.0  9900.0  38.16  "
      ]
     },
     "execution_count": 15,
     "metadata": {},
     "output_type": "execute_result"
    }
   ],
   "source": [
    "data.head(3)"
   ]
  },
  {
   "cell_type": "code",
   "execution_count": 16,
   "metadata": {
    "scrolled": true
   },
   "outputs": [
    {
     "name": "stderr",
     "output_type": "stream",
     "text": [
      "E:\\anaconda\\lib\\site-packages\\ipykernel_launcher.py:1: SettingWithCopyWarning: \n",
      "A value is trying to be set on a copy of a slice from a DataFrame.\n",
      "Try using .loc[row_indexer,col_indexer] = value instead\n",
      "\n",
      "See the caveats in the documentation: http://pandas.pydata.org/pandas-docs/stable/indexing.html#indexing-view-versus-copy\n",
      "  \"\"\"Entry point for launching an IPython kernel.\n"
     ]
    }
   ],
   "source": [
    "data['销售额']=data['销货数量']*data['单价']  \n",
    "  #data['销售额']=data.apply(lambda x: x['销货数量']*x['单价'],axis=1)"
   ]
  },
  {
   "cell_type": "code",
   "execution_count": 17,
   "metadata": {},
   "outputs": [
    {
     "data": {
      "text/html": [
       "<div>\n",
       "<style scoped>\n",
       "    .dataframe tbody tr th:only-of-type {\n",
       "        vertical-align: middle;\n",
       "    }\n",
       "\n",
       "    .dataframe tbody tr th {\n",
       "        vertical-align: top;\n",
       "    }\n",
       "\n",
       "    .dataframe thead th {\n",
       "        text-align: right;\n",
       "    }\n",
       "</style>\n",
       "<table border=\"1\" class=\"dataframe\">\n",
       "  <thead>\n",
       "    <tr style=\"text-align: right;\">\n",
       "      <th></th>\n",
       "      <th>客户简称</th>\n",
       "      <th>部门</th>\n",
       "      <th>业务员</th>\n",
       "      <th>品  号</th>\n",
       "      <th>品  名</th>\n",
       "      <th>规  格</th>\n",
       "      <th>日期</th>\n",
       "      <th>销货数量</th>\n",
       "      <th>单价</th>\n",
       "      <th>毛利率</th>\n",
       "      <th>销售额</th>\n",
       "    </tr>\n",
       "  </thead>\n",
       "  <tbody>\n",
       "    <tr>\n",
       "      <th>0</th>\n",
       "      <td>华电众信</td>\n",
       "      <td>业务三部</td>\n",
       "      <td>张国斌</td>\n",
       "      <td>100102710100</td>\n",
       "      <td>NAP-8865-LX-71整机</td>\n",
       "      <td>网御星云 平台-LV6800塑料面板</td>\n",
       "      <td>2016-06-03</td>\n",
       "      <td>10.0</td>\n",
       "      <td>7500.0</td>\n",
       "      <td>16.94</td>\n",
       "      <td>75000.0</td>\n",
       "    </tr>\n",
       "    <tr>\n",
       "      <th>1</th>\n",
       "      <td>华电众信</td>\n",
       "      <td>业务三部</td>\n",
       "      <td>张国斌</td>\n",
       "      <td>102302220100</td>\n",
       "      <td>NAP-8860Z-XTTX-22整机</td>\n",
       "      <td>兴唐 2U FW-8860系安电力项目</td>\n",
       "      <td>2016-03-18</td>\n",
       "      <td>80.0</td>\n",
       "      <td>9900.0</td>\n",
       "      <td>38.16</td>\n",
       "      <td>792000.0</td>\n",
       "    </tr>\n",
       "    <tr>\n",
       "      <th>2</th>\n",
       "      <td>华电众信</td>\n",
       "      <td>业务三部</td>\n",
       "      <td>张国斌</td>\n",
       "      <td>102302220100</td>\n",
       "      <td>NAP-8860Z-XTTX-22整机</td>\n",
       "      <td>兴唐 2U FW-8860系安电力项目</td>\n",
       "      <td>2016-04-19</td>\n",
       "      <td>20.0</td>\n",
       "      <td>9900.0</td>\n",
       "      <td>38.16</td>\n",
       "      <td>198000.0</td>\n",
       "    </tr>\n",
       "    <tr>\n",
       "      <th>3</th>\n",
       "      <td>华电众信</td>\n",
       "      <td>业务三部</td>\n",
       "      <td>张国斌</td>\n",
       "      <td>102302220100</td>\n",
       "      <td>NAP-8860Z-XTTX-22整机</td>\n",
       "      <td>兴唐 2U FW-8860系安电力项目</td>\n",
       "      <td>2016-05-10</td>\n",
       "      <td>20.0</td>\n",
       "      <td>9900.0</td>\n",
       "      <td>38.16</td>\n",
       "      <td>198000.0</td>\n",
       "    </tr>\n",
       "    <tr>\n",
       "      <th>4</th>\n",
       "      <td>华电众信</td>\n",
       "      <td>业务三部</td>\n",
       "      <td>张国斌</td>\n",
       "      <td>102302220100</td>\n",
       "      <td>NAP-8860Z-XTTX-22整机</td>\n",
       "      <td>兴唐 2U FW-8860系安电力项目</td>\n",
       "      <td>2016-06-13</td>\n",
       "      <td>50.0</td>\n",
       "      <td>9900.0</td>\n",
       "      <td>38.16</td>\n",
       "      <td>495000.0</td>\n",
       "    </tr>\n",
       "  </tbody>\n",
       "</table>\n",
       "</div>"
      ],
      "text/plain": [
       "   客户简称    部门  业务员          品  号                 品  名                 规  格  \\\n",
       "0  华电众信  业务三部  张国斌  100102710100     NAP-8865-LX-71整机   网御星云 平台-LV6800塑料面板   \n",
       "1  华电众信  业务三部  张国斌  102302220100  NAP-8860Z-XTTX-22整机  兴唐 2U FW-8860系安电力项目   \n",
       "2  华电众信  业务三部  张国斌  102302220100  NAP-8860Z-XTTX-22整机  兴唐 2U FW-8860系安电力项目   \n",
       "3  华电众信  业务三部  张国斌  102302220100  NAP-8860Z-XTTX-22整机  兴唐 2U FW-8860系安电力项目   \n",
       "4  华电众信  业务三部  张国斌  102302220100  NAP-8860Z-XTTX-22整机  兴唐 2U FW-8860系安电力项目   \n",
       "\n",
       "           日期  销货数量      单价    毛利率       销售额  \n",
       "0  2016-06-03  10.0  7500.0  16.94   75000.0  \n",
       "1  2016-03-18  80.0  9900.0  38.16  792000.0  \n",
       "2  2016-04-19  20.0  9900.0  38.16  198000.0  \n",
       "3  2016-05-10  20.0  9900.0  38.16  198000.0  \n",
       "4  2016-06-13  50.0  9900.0  38.16  495000.0  "
      ]
     },
     "execution_count": 17,
     "metadata": {},
     "output_type": "execute_result"
    }
   ],
   "source": [
    "data.head()"
   ]
  },
  {
   "cell_type": "code",
   "execution_count": 18,
   "metadata": {},
   "outputs": [
    {
     "name": "stderr",
     "output_type": "stream",
     "text": [
      "E:\\anaconda\\lib\\site-packages\\ipykernel_launcher.py:1: SettingWithCopyWarning: \n",
      "A value is trying to be set on a copy of a slice from a DataFrame.\n",
      "Try using .loc[row_indexer,col_indexer] = value instead\n",
      "\n",
      "See the caveats in the documentation: http://pandas.pydata.org/pandas-docs/stable/indexing.html#indexing-view-versus-copy\n",
      "  \"\"\"Entry point for launching an IPython kernel.\n"
     ]
    }
   ],
   "source": [
    "data['日期']=pd.to_datetime(data['日期']) "
   ]
  },
  {
   "cell_type": "code",
   "execution_count": 19,
   "metadata": {},
   "outputs": [],
   "source": [
    "# data=data.set_index('日期')"
   ]
  },
  {
   "cell_type": "code",
   "execution_count": 20,
   "metadata": {
    "scrolled": true
   },
   "outputs": [
    {
     "data": {
      "text/html": [
       "<div>\n",
       "<style scoped>\n",
       "    .dataframe tbody tr th:only-of-type {\n",
       "        vertical-align: middle;\n",
       "    }\n",
       "\n",
       "    .dataframe tbody tr th {\n",
       "        vertical-align: top;\n",
       "    }\n",
       "\n",
       "    .dataframe thead th {\n",
       "        text-align: right;\n",
       "    }\n",
       "</style>\n",
       "<table border=\"1\" class=\"dataframe\">\n",
       "  <thead>\n",
       "    <tr style=\"text-align: right;\">\n",
       "      <th></th>\n",
       "      <th>客户简称</th>\n",
       "      <th>部门</th>\n",
       "      <th>业务员</th>\n",
       "      <th>品  号</th>\n",
       "      <th>品  名</th>\n",
       "      <th>规  格</th>\n",
       "      <th>日期</th>\n",
       "      <th>销货数量</th>\n",
       "      <th>单价</th>\n",
       "      <th>毛利率</th>\n",
       "      <th>销售额</th>\n",
       "    </tr>\n",
       "  </thead>\n",
       "  <tbody>\n",
       "    <tr>\n",
       "      <th>0</th>\n",
       "      <td>华电众信</td>\n",
       "      <td>业务三部</td>\n",
       "      <td>张国斌</td>\n",
       "      <td>100102710100</td>\n",
       "      <td>NAP-8865-LX-71整机</td>\n",
       "      <td>网御星云 平台-LV6800塑料面板</td>\n",
       "      <td>2016-06-03</td>\n",
       "      <td>10.0</td>\n",
       "      <td>7500.0</td>\n",
       "      <td>16.94</td>\n",
       "      <td>75000.0</td>\n",
       "    </tr>\n",
       "    <tr>\n",
       "      <th>1</th>\n",
       "      <td>华电众信</td>\n",
       "      <td>业务三部</td>\n",
       "      <td>张国斌</td>\n",
       "      <td>102302220100</td>\n",
       "      <td>NAP-8860Z-XTTX-22整机</td>\n",
       "      <td>兴唐 2U FW-8860系安电力项目</td>\n",
       "      <td>2016-03-18</td>\n",
       "      <td>80.0</td>\n",
       "      <td>9900.0</td>\n",
       "      <td>38.16</td>\n",
       "      <td>792000.0</td>\n",
       "    </tr>\n",
       "    <tr>\n",
       "      <th>2</th>\n",
       "      <td>华电众信</td>\n",
       "      <td>业务三部</td>\n",
       "      <td>张国斌</td>\n",
       "      <td>102302220100</td>\n",
       "      <td>NAP-8860Z-XTTX-22整机</td>\n",
       "      <td>兴唐 2U FW-8860系安电力项目</td>\n",
       "      <td>2016-04-19</td>\n",
       "      <td>20.0</td>\n",
       "      <td>9900.0</td>\n",
       "      <td>38.16</td>\n",
       "      <td>198000.0</td>\n",
       "    </tr>\n",
       "  </tbody>\n",
       "</table>\n",
       "</div>"
      ],
      "text/plain": [
       "   客户简称    部门  业务员          品  号                 品  名                 规  格  \\\n",
       "0  华电众信  业务三部  张国斌  100102710100     NAP-8865-LX-71整机   网御星云 平台-LV6800塑料面板   \n",
       "1  华电众信  业务三部  张国斌  102302220100  NAP-8860Z-XTTX-22整机  兴唐 2U FW-8860系安电力项目   \n",
       "2  华电众信  业务三部  张国斌  102302220100  NAP-8860Z-XTTX-22整机  兴唐 2U FW-8860系安电力项目   \n",
       "\n",
       "          日期  销货数量      单价    毛利率       销售额  \n",
       "0 2016-06-03  10.0  7500.0  16.94   75000.0  \n",
       "1 2016-03-18  80.0  9900.0  38.16  792000.0  \n",
       "2 2016-04-19  20.0  9900.0  38.16  198000.0  "
      ]
     },
     "execution_count": 20,
     "metadata": {},
     "output_type": "execute_result"
    }
   ],
   "source": [
    "data.head(3)"
   ]
  },
  {
   "cell_type": "code",
   "execution_count": 21,
   "metadata": {},
   "outputs": [],
   "source": [
    "# time=data.resample('M').asfreq"
   ]
  },
  {
   "cell_type": "code",
   "execution_count": 22,
   "metadata": {},
   "outputs": [],
   "source": [
    "data=data.set_index('日期')"
   ]
  },
  {
   "cell_type": "code",
   "execution_count": 23,
   "metadata": {},
   "outputs": [
    {
     "data": {
      "text/html": [
       "<div>\n",
       "<style scoped>\n",
       "    .dataframe tbody tr th:only-of-type {\n",
       "        vertical-align: middle;\n",
       "    }\n",
       "\n",
       "    .dataframe tbody tr th {\n",
       "        vertical-align: top;\n",
       "    }\n",
       "\n",
       "    .dataframe thead th {\n",
       "        text-align: right;\n",
       "    }\n",
       "</style>\n",
       "<table border=\"1\" class=\"dataframe\">\n",
       "  <thead>\n",
       "    <tr style=\"text-align: right;\">\n",
       "      <th></th>\n",
       "      <th>客户简称</th>\n",
       "      <th>部门</th>\n",
       "      <th>业务员</th>\n",
       "      <th>品  号</th>\n",
       "      <th>品  名</th>\n",
       "      <th>规  格</th>\n",
       "      <th>销货数量</th>\n",
       "      <th>单价</th>\n",
       "      <th>毛利率</th>\n",
       "      <th>销售额</th>\n",
       "    </tr>\n",
       "    <tr>\n",
       "      <th>日期</th>\n",
       "      <th></th>\n",
       "      <th></th>\n",
       "      <th></th>\n",
       "      <th></th>\n",
       "      <th></th>\n",
       "      <th></th>\n",
       "      <th></th>\n",
       "      <th></th>\n",
       "      <th></th>\n",
       "      <th></th>\n",
       "    </tr>\n",
       "  </thead>\n",
       "  <tbody>\n",
       "    <tr>\n",
       "      <th>2016-06-03</th>\n",
       "      <td>华电众信</td>\n",
       "      <td>业务三部</td>\n",
       "      <td>张国斌</td>\n",
       "      <td>100102710100</td>\n",
       "      <td>NAP-8865-LX-71整机</td>\n",
       "      <td>网御星云 平台-LV6800塑料面板</td>\n",
       "      <td>10.0</td>\n",
       "      <td>7500.0</td>\n",
       "      <td>16.94</td>\n",
       "      <td>75000.0</td>\n",
       "    </tr>\n",
       "    <tr>\n",
       "      <th>2016-03-18</th>\n",
       "      <td>华电众信</td>\n",
       "      <td>业务三部</td>\n",
       "      <td>张国斌</td>\n",
       "      <td>102302220100</td>\n",
       "      <td>NAP-8860Z-XTTX-22整机</td>\n",
       "      <td>兴唐 2U FW-8860系安电力项目</td>\n",
       "      <td>80.0</td>\n",
       "      <td>9900.0</td>\n",
       "      <td>38.16</td>\n",
       "      <td>792000.0</td>\n",
       "    </tr>\n",
       "  </tbody>\n",
       "</table>\n",
       "</div>"
      ],
      "text/plain": [
       "            客户简称    部门  业务员          品  号                 品  名  \\\n",
       "日期                                                               \n",
       "2016-06-03  华电众信  业务三部  张国斌  100102710100     NAP-8865-LX-71整机   \n",
       "2016-03-18  华电众信  业务三部  张国斌  102302220100  NAP-8860Z-XTTX-22整机   \n",
       "\n",
       "                           规  格  销货数量      单价    毛利率       销售额  \n",
       "日期                                                              \n",
       "2016-06-03   网御星云 平台-LV6800塑料面板  10.0  7500.0  16.94   75000.0  \n",
       "2016-03-18  兴唐 2U FW-8860系安电力项目  80.0  9900.0  38.16  792000.0  "
      ]
     },
     "execution_count": 23,
     "metadata": {},
     "output_type": "execute_result"
    }
   ],
   "source": [
    "data.head(2)"
   ]
  },
  {
   "cell_type": "code",
   "execution_count": 24,
   "metadata": {},
   "outputs": [
    {
     "data": {
      "text/plain": [
       "部门        日期        \n",
       "MIS       2016-01-31    3.023112e+07\n",
       "          2016-02-29    0.000000e+00\n",
       "          2016-03-31   -6.000000e+04\n",
       "          2016-04-30    0.000000e+00\n",
       "          2016-05-31   -7.094200e+03\n",
       "上海业务部     2016-01-31    1.576690e+06\n",
       "          2016-02-29    7.034900e+05\n",
       "          2016-03-31    1.533881e+06\n",
       "          2016-04-30    1.634899e+06\n",
       "          2016-05-31    1.999060e+06\n",
       "          2016-06-30    1.729131e+06\n",
       "业务一部      2016-01-31    1.190073e+07\n",
       "          2016-02-29    4.927867e+06\n",
       "          2016-03-31    6.644901e+06\n",
       "          2016-04-30    5.222693e+06\n",
       "          2016-05-31    1.920426e+06\n",
       "          2016-06-30    4.833137e+06\n",
       "业务三部      2016-01-31    4.118300e+06\n",
       "          2016-02-29    1.961350e+06\n",
       "          2016-03-31    2.754570e+06\n",
       "          2016-04-30    2.656630e+06\n",
       "          2016-05-31    1.564700e+06\n",
       "          2016-06-30    4.946390e+06\n",
       "业务二部      2016-01-31    4.797630e+06\n",
       "          2016-02-29    6.984400e+05\n",
       "          2016-03-31    1.696186e+06\n",
       "          2016-04-30    1.309415e+06\n",
       "          2016-05-31    2.037400e+06\n",
       "          2016-06-30    2.107310e+06\n",
       "南京办事处     2016-01-31    4.876280e+06\n",
       "                            ...     \n",
       "售后服务部     2016-06-30    6.116400e+04\n",
       "商务部       2016-01-31    1.442501e+07\n",
       "          2016-02-29    5.138952e+06\n",
       "          2016-03-31    8.208053e+04\n",
       "          2016-04-30    1.520000e+03\n",
       "          2016-05-31    7.148380e+04\n",
       "大客户部      2016-01-31    5.464900e+05\n",
       "          2016-02-29    6.513900e+05\n",
       "          2016-03-31    8.845750e+05\n",
       "          2016-04-30    1.397975e+06\n",
       "          2016-05-31    8.616850e+05\n",
       "          2016-06-30    7.140410e+05\n",
       "工业自动化事业部  2016-01-31    2.018602e+06\n",
       "          2016-02-29    9.695072e+05\n",
       "          2016-03-31    7.644093e+05\n",
       "          2016-04-30    9.610000e+03\n",
       "          2016-05-31    2.253700e+04\n",
       "          2016-06-30    1.454210e+05\n",
       "成都办事处     2016-01-31    3.240000e+04\n",
       "          2016-02-29    0.000000e+00\n",
       "          2016-03-31    8.400000e+03\n",
       "          2016-04-30    0.000000e+00\n",
       "深圳业务部     2016-01-31    1.159792e+07\n",
       "          2016-02-29    5.941920e+06\n",
       "          2016-03-31    8.857457e+06\n",
       "          2016-04-30    8.622065e+06\n",
       "          2016-05-31    8.181237e+06\n",
       "          2016-06-30    7.615560e+06\n",
       "电信业务部     2016-03-31    2.777400e+05\n",
       "          2016-04-30    1.223200e+05\n",
       "Name: 销售额, Length: 70, dtype: float64"
      ]
     },
     "execution_count": 24,
     "metadata": {},
     "output_type": "execute_result"
    }
   ],
   "source": [
    "data.groupby('部门').resample('M')['销售额'].sum()"
   ]
  },
  {
   "cell_type": "code",
   "execution_count": 25,
   "metadata": {},
   "outputs": [
    {
     "name": "stderr",
     "output_type": "stream",
     "text": [
      "E:\\anaconda\\lib\\site-packages\\ipykernel_launcher.py:1: FutureWarning: pd.TimeGrouper is deprecated and will be removed; Please use pd.Grouper(freq=...)\n",
      "  \"\"\"Entry point for launching an IPython kernel.\n"
     ]
    },
    {
     "data": {
      "text/plain": [
       "日期\n",
       "2016-01-31    8.619284e+07\n",
       "2016-02-29    2.534652e+07\n",
       "2016-03-31    2.528642e+07\n",
       "2016-04-30    2.373137e+07\n",
       "2016-05-31    1.772410e+07\n",
       "2016-06-30    2.487135e+07\n",
       "Freq: M, Name: 销售额, dtype: float64"
      ]
     },
     "execution_count": 25,
     "metadata": {},
     "output_type": "execute_result"
    }
   ],
   "source": [
    "data.groupby(pd.TimeGrouper(freq='M'))['销售额'].sum()"
   ]
  },
  {
   "cell_type": "code",
   "execution_count": 26,
   "metadata": {},
   "outputs": [
    {
     "data": {
      "text/plain": [
       "部门\n",
       "MIS         3.016403e+07\n",
       "上海业务部       9.177151e+06\n",
       "业务一部        3.544976e+07\n",
       "业务三部        1.800194e+07\n",
       "业务二部        1.264638e+07\n",
       "南京办事处       1.734524e+07\n",
       "售后服务部       4.058010e+05\n",
       "商务部         1.971904e+07\n",
       "大客户部        5.056156e+06\n",
       "工业自动化事业部    3.930087e+06\n",
       "成都办事处       4.080000e+04\n",
       "深圳业务部       5.081616e+07\n",
       "电信业务部       4.000600e+05\n",
       "Name: 销售额, dtype: float64"
      ]
     },
     "execution_count": 26,
     "metadata": {},
     "output_type": "execute_result"
    }
   ],
   "source": [
    "data.groupby('部门')['销售额'].sum()"
   ]
  },
  {
   "cell_type": "code",
   "execution_count": 27,
   "metadata": {},
   "outputs": [
    {
     "data": {
      "text/plain": [
       "日期          部门      \n",
       "2016-01-31  MIS         3.023112e+07\n",
       "            上海业务部       1.576690e+06\n",
       "            业务一部        1.190073e+07\n",
       "            业务三部        4.118300e+06\n",
       "            业务二部        4.797630e+06\n",
       "            南京办事处       4.876280e+06\n",
       "            售后服务部       7.166200e+04\n",
       "            商务部         1.442501e+07\n",
       "            大客户部        5.464900e+05\n",
       "            工业自动化事业部    2.018602e+06\n",
       "            成都办事处       3.240000e+04\n",
       "            深圳业务部       1.159792e+07\n",
       "2016-02-29  上海业务部       7.034900e+05\n",
       "            业务一部        4.927867e+06\n",
       "            业务三部        1.961350e+06\n",
       "            业务二部        6.984400e+05\n",
       "            南京办事处       4.342290e+06\n",
       "            售后服务部       1.131600e+04\n",
       "            商务部         5.138952e+06\n",
       "            大客户部        6.513900e+05\n",
       "            工业自动化事业部    9.695072e+05\n",
       "            深圳业务部       5.941920e+06\n",
       "2016-03-31  MIS        -6.000000e+04\n",
       "            上海业务部       1.533881e+06\n",
       "            业务一部        6.644901e+06\n",
       "            业务三部        2.754570e+06\n",
       "            业务二部        1.696186e+06\n",
       "            南京办事处       1.696315e+06\n",
       "            售后服务部       1.459035e+05\n",
       "            商务部         8.208053e+04\n",
       "                            ...     \n",
       "2016-04-30  业务三部        2.656630e+06\n",
       "            业务二部        1.309415e+06\n",
       "            南京办事处       2.686500e+06\n",
       "            售后服务部       6.774550e+04\n",
       "            商务部         1.520000e+03\n",
       "            大客户部        1.397975e+06\n",
       "            工业自动化事业部    9.610000e+03\n",
       "            成都办事处       0.000000e+00\n",
       "            深圳业务部       8.622065e+06\n",
       "            电信业务部       1.223200e+05\n",
       "2016-05-31  MIS        -7.094200e+03\n",
       "            上海业务部       1.999060e+06\n",
       "            业务一部        1.920426e+06\n",
       "            业务三部        1.564700e+06\n",
       "            业务二部        2.037400e+06\n",
       "            南京办事处       1.024660e+06\n",
       "            售后服务部       4.801000e+04\n",
       "            商务部         7.148380e+04\n",
       "            大客户部        8.616850e+05\n",
       "            工业自动化事业部    2.253700e+04\n",
       "            深圳业务部       8.181237e+06\n",
       "2016-06-30  上海业务部       1.729131e+06\n",
       "            业务一部        4.833137e+06\n",
       "            业务三部        4.946390e+06\n",
       "            业务二部        2.107310e+06\n",
       "            南京办事处       2.719200e+06\n",
       "            售后服务部       6.116400e+04\n",
       "            大客户部        7.140410e+05\n",
       "            工业自动化事业部    1.454210e+05\n",
       "            深圳业务部       7.615560e+06\n",
       "Name: 销售额, Length: 67, dtype: float64"
      ]
     },
     "execution_count": 27,
     "metadata": {},
     "output_type": "execute_result"
    }
   ],
   "source": [
    "data.groupby([pd.Grouper(freq='M'),'部门'])['销售额'].sum()"
   ]
  },
  {
   "cell_type": "code",
   "execution_count": 28,
   "metadata": {},
   "outputs": [],
   "source": [
    "data=data.to_period('M')"
   ]
  },
  {
   "cell_type": "code",
   "execution_count": 29,
   "metadata": {},
   "outputs": [
    {
     "data": {
      "text/plain": [
       "日期       业务员\n",
       "2016-01  何峻     5.832508e+06\n",
       "         刘宇思    7.166200e+04\n",
       "         刘莹     1.080000e+04\n",
       "         宋姗姗    1.459250e+06\n",
       "         张勇亮    6.068227e+06\n",
       "         张国斌    1.758400e+06\n",
       "         张宇宁    2.028490e+06\n",
       "         张彬     3.603290e+06\n",
       "         李勇     3.240000e+04\n",
       "         李延刚    1.103233e+07\n",
       "         李玮     1.442501e+07\n",
       "         杨天伟    3.023112e+07\n",
       "         杨恒     1.565890e+06\n",
       "         江海柄    6.650000e+04\n",
       "         沈宇林    4.813380e+06\n",
       "         王建中    5.655900e+05\n",
       "         程志     6.290000e+04\n",
       "         苏冠群    5.464900e+05\n",
       "         赵晓静    2.018602e+06\n",
       "2016-02  何峻     2.465240e+06\n",
       "         刘宇思    1.131600e+04\n",
       "         宋姗姗    1.085600e+06\n",
       "         张勇亮    2.462627e+06\n",
       "         张国斌    1.900000e+05\n",
       "         张宇宁    2.248000e+05\n",
       "         张彬     6.857500e+05\n",
       "         李延刚    5.741920e+06\n",
       "         李玮     5.138952e+06\n",
       "         杨恒     7.034900e+05\n",
       "         江海柄    4.736400e+05\n",
       "                    ...     \n",
       "2016-05  张勇亮    9.592213e+05\n",
       "         张国斌    7.934800e+05\n",
       "         张宇宁    1.711400e+06\n",
       "         张彬     4.701200e+05\n",
       "         李延刚    6.469997e+06\n",
       "         李玮     7.148380e+04\n",
       "         杨天伟   -7.094200e+03\n",
       "         杨恒     1.999060e+06\n",
       "         江海柄    3.260000e+05\n",
       "         沈宇林    1.000300e+06\n",
       "         王建中    1.711240e+06\n",
       "         程志     2.436000e+04\n",
       "         苏冠群    8.616850e+05\n",
       "         赵晓静    2.253700e+04\n",
       "2016-06  何峻     3.513460e+06\n",
       "         刘宇思    6.116400e+04\n",
       "         宋姗姗    2.006000e+05\n",
       "         张勇亮    1.319677e+06\n",
       "         张国斌    2.079000e+06\n",
       "         张宇宁    8.017700e+05\n",
       "         张彬     2.951890e+06\n",
       "         李延刚    7.364580e+06\n",
       "         杨恒     1.729131e+06\n",
       "         江海柄    1.020440e+06\n",
       "         沈宇林    2.700000e+06\n",
       "         王建中    3.944800e+05\n",
       "         程志     1.920000e+04\n",
       "         苏冠群    7.140410e+05\n",
       "         赵晓静    1.454210e+05\n",
       "         陈健忠   -1.435000e+05\n",
       "Name: 销售额, Length: 102, dtype: float64"
      ]
     },
     "execution_count": 29,
     "metadata": {},
     "output_type": "execute_result"
    }
   ],
   "source": [
    "data.groupby(['日期','业务员'])['销售额'].sum()"
   ]
  },
  {
   "cell_type": "code",
   "execution_count": 30,
   "metadata": {},
   "outputs": [
    {
     "data": {
      "text/plain": [
       "日期       部门      \n",
       "2016-01  MIS         3.023112e+07\n",
       "         上海业务部       1.576690e+06\n",
       "         业务一部        1.190073e+07\n",
       "         业务三部        4.118300e+06\n",
       "         业务二部        4.797630e+06\n",
       "         南京办事处       4.876280e+06\n",
       "         售后服务部       7.166200e+04\n",
       "         商务部         1.442501e+07\n",
       "         大客户部        5.464900e+05\n",
       "         工业自动化事业部    2.018602e+06\n",
       "         成都办事处       3.240000e+04\n",
       "         深圳业务部       1.159792e+07\n",
       "2016-02  上海业务部       7.034900e+05\n",
       "         业务一部        4.927867e+06\n",
       "         业务三部        1.961350e+06\n",
       "         业务二部        6.984400e+05\n",
       "         南京办事处       4.342290e+06\n",
       "         售后服务部       1.131600e+04\n",
       "         商务部         5.138952e+06\n",
       "         大客户部        6.513900e+05\n",
       "         工业自动化事业部    9.695072e+05\n",
       "         深圳业务部       5.941920e+06\n",
       "2016-03  MIS        -6.000000e+04\n",
       "         上海业务部       1.533881e+06\n",
       "         业务一部        6.644901e+06\n",
       "         业务三部        2.754570e+06\n",
       "         业务二部        1.696186e+06\n",
       "         南京办事处       1.696315e+06\n",
       "         售后服务部       1.459035e+05\n",
       "         商务部         8.208053e+04\n",
       "                         ...     \n",
       "2016-04  业务三部        2.656630e+06\n",
       "         业务二部        1.309415e+06\n",
       "         南京办事处       2.686500e+06\n",
       "         售后服务部       6.774550e+04\n",
       "         商务部         1.520000e+03\n",
       "         大客户部        1.397975e+06\n",
       "         工业自动化事业部    9.610000e+03\n",
       "         成都办事处       0.000000e+00\n",
       "         深圳业务部       8.622065e+06\n",
       "         电信业务部       1.223200e+05\n",
       "2016-05  MIS        -7.094200e+03\n",
       "         上海业务部       1.999060e+06\n",
       "         业务一部        1.920426e+06\n",
       "         业务三部        1.564700e+06\n",
       "         业务二部        2.037400e+06\n",
       "         南京办事处       1.024660e+06\n",
       "         售后服务部       4.801000e+04\n",
       "         商务部         7.148380e+04\n",
       "         大客户部        8.616850e+05\n",
       "         工业自动化事业部    2.253700e+04\n",
       "         深圳业务部       8.181237e+06\n",
       "2016-06  上海业务部       1.729131e+06\n",
       "         业务一部        4.833137e+06\n",
       "         业务三部        4.946390e+06\n",
       "         业务二部        2.107310e+06\n",
       "         南京办事处       2.719200e+06\n",
       "         售后服务部       6.116400e+04\n",
       "         大客户部        7.140410e+05\n",
       "         工业自动化事业部    1.454210e+05\n",
       "         深圳业务部       7.615560e+06\n",
       "Name: 销售额, Length: 67, dtype: float64"
      ]
     },
     "execution_count": 30,
     "metadata": {},
     "output_type": "execute_result"
    }
   ],
   "source": [
    "data.groupby(['日期','部门'])['销售额'].sum()"
   ]
  },
  {
   "cell_type": "code",
   "execution_count": 31,
   "metadata": {},
   "outputs": [
    {
     "data": {
      "text/plain": [
       "<matplotlib.figure.Figure at 0x195d8bd5198>"
      ]
     },
     "execution_count": 31,
     "metadata": {},
     "output_type": "execute_result"
    },
    {
     "data": {
      "image/png": "[encoded data removed]",
      "text/plain": [
       "<matplotlib.figure.Figure at 0x195d8c30630>"
      ]
     },
     "metadata": {
      "needs_background": "light"
     },
     "output_type": "display_data"
    },
    {
     "data": {
      "text/plain": [
       "<matplotlib.figure.Figure at 0x195d8bd5198>"
      ]
     },
     "metadata": {},
     "output_type": "display_data"
    }
   ],
   "source": [
    "data2=data.groupby(['日期','部门'])['销售额'].sum().unstack()\n",
    "data2.plot(figsize=(10,8))\n",
    "plt.figure(dpi=600)"
   ]
  },
  {
   "cell_type": "code",
   "execution_count": 32,
   "metadata": {},
   "outputs": [
    {
     "name": "stdout",
     "output_type": "stream",
     "text": [
      "WARNING *** file size (5611007) not 512 + multiple of sector size (512)\n"
     ]
    }
   ],
   "source": [
    "data1=pd.read_excel(open(r'E:\\公司数据\\20180101-20180630立华销货明细.xls','rb'))"
   ]
  },
  {
   "cell_type": "code",
   "execution_count": 33,
   "metadata": {},
   "outputs": [
    {
     "data": {
      "text/html": [
       "<div>\n",
       "<style scoped>\n",
       "    .dataframe tbody tr th:only-of-type {\n",
       "        vertical-align: middle;\n",
       "    }\n",
       "\n",
       "    .dataframe tbody tr th {\n",
       "        vertical-align: top;\n",
       "    }\n",
       "\n",
       "    .dataframe thead th {\n",
       "        text-align: right;\n",
       "    }\n",
       "</style>\n",
       "<table border=\"1\" class=\"dataframe\">\n",
       "  <thead>\n",
       "    <tr style=\"text-align: right;\">\n",
       "      <th></th>\n",
       "      <th>客户编号</th>\n",
       "      <th>客户简称</th>\n",
       "      <th>部门</th>\n",
       "      <th>业务员</th>\n",
       "      <th>渠道</th>\n",
       "      <th>类型</th>\n",
       "      <th>地区</th>\n",
       "      <th>国家</th>\n",
       "      <th>路线</th>\n",
       "      <th>其他</th>\n",
       "      <th>...</th>\n",
       "      <th>客户单号</th>\n",
       "      <th>已开票数量</th>\n",
       "      <th>原币价税合计</th>\n",
       "      <th>本币价税合计</th>\n",
       "      <th>批号说明</th>\n",
       "      <th>客户品号</th>\n",
       "      <th>客户品名</th>\n",
       "      <th>客户规格</th>\n",
       "      <th>项目编号</th>\n",
       "      <th>项目名称</th>\n",
       "    </tr>\n",
       "  </thead>\n",
       "  <tbody>\n",
       "    <tr>\n",
       "      <th>0</th>\n",
       "      <td>0008</td>\n",
       "      <td>华电众信</td>\n",
       "      <td>工业自动化事业部</td>\n",
       "      <td>谢颖</td>\n",
       "      <td>NaN</td>\n",
       "      <td>NaN</td>\n",
       "      <td>NaN</td>\n",
       "      <td>NaN</td>\n",
       "      <td>NaN</td>\n",
       "      <td>NaN</td>\n",
       "      <td>...</td>\n",
       "      <td>NaN</td>\n",
       "      <td>1</td>\n",
       "      <td>467.0</td>\n",
       "      <td>467.0</td>\n",
       "      <td>NaN</td>\n",
       "      <td>NaN</td>\n",
       "      <td>NaN</td>\n",
       "      <td>NaN</td>\n",
       "      <td>NaN</td>\n",
       "      <td>NaN</td>\n",
       "    </tr>\n",
       "    <tr>\n",
       "      <th>1</th>\n",
       "      <td>0008</td>\n",
       "      <td>华电众信</td>\n",
       "      <td>工业自动化事业部</td>\n",
       "      <td>谢颖</td>\n",
       "      <td>NaN</td>\n",
       "      <td>NaN</td>\n",
       "      <td>NaN</td>\n",
       "      <td>NaN</td>\n",
       "      <td>NaN</td>\n",
       "      <td>NaN</td>\n",
       "      <td>...</td>\n",
       "      <td>NaN</td>\n",
       "      <td>1</td>\n",
       "      <td>78.0</td>\n",
       "      <td>78.0</td>\n",
       "      <td>NaN</td>\n",
       "      <td>NaN</td>\n",
       "      <td>NaN</td>\n",
       "      <td>NaN</td>\n",
       "      <td>NaN</td>\n",
       "      <td>NaN</td>\n",
       "    </tr>\n",
       "  </tbody>\n",
       "</table>\n",
       "<p>2 rows × 49 columns</p>\n",
       "</div>"
      ],
      "text/plain": [
       "   客户编号  客户简称        部门 业务员  渠道  类型  地区  国家  路线  其他 ...  客户单号 已开票数量 原币价税合计  \\\n",
       "0  0008  华电众信  工业自动化事业部  谢颖 NaN NaN NaN NaN NaN NaN ...   NaN     1  467.0   \n",
       "1  0008  华电众信  工业自动化事业部  谢颖 NaN NaN NaN NaN NaN NaN ...   NaN     1   78.0   \n",
       "\n",
       "  本币价税合计 批号说明 客户品号 客户品名 客户规格 项目编号 项目名称  \n",
       "0  467.0  NaN  NaN  NaN  NaN  NaN  NaN  \n",
       "1   78.0  NaN  NaN  NaN  NaN  NaN  NaN  \n",
       "\n",
       "[2 rows x 49 columns]"
      ]
     },
     "execution_count": 33,
     "metadata": {},
     "output_type": "execute_result"
    }
   ],
   "source": [
    "data1.head(2)"
   ]
  },
  {
   "cell_type": "code",
   "execution_count": 34,
   "metadata": {},
   "outputs": [
    {
     "name": "stdout",
     "output_type": "stream",
     "text": [
      "WARNING *** file size (8343558) not 512 + multiple of sector size (512)\n"
     ]
    },
    {
     "data": {
      "text/html": [
       "<div>\n",
       "<style scoped>\n",
       "    .dataframe tbody tr th:only-of-type {\n",
       "        vertical-align: middle;\n",
       "    }\n",
       "\n",
       "    .dataframe tbody tr th {\n",
       "        vertical-align: top;\n",
       "    }\n",
       "\n",
       "    .dataframe thead th {\n",
       "        text-align: right;\n",
       "    }\n",
       "</style>\n",
       "<table border=\"1\" class=\"dataframe\">\n",
       "  <thead>\n",
       "    <tr style=\"text-align: right;\">\n",
       "      <th></th>\n",
       "      <th>客户编号</th>\n",
       "      <th>客户简称</th>\n",
       "      <th>部门</th>\n",
       "      <th>业务员</th>\n",
       "      <th>渠道</th>\n",
       "      <th>类型</th>\n",
       "      <th>地区</th>\n",
       "      <th>国家</th>\n",
       "      <th>路线</th>\n",
       "      <th>其他</th>\n",
       "      <th>...</th>\n",
       "      <th>客户单号</th>\n",
       "      <th>已开票数量</th>\n",
       "      <th>原币价税合计</th>\n",
       "      <th>本币价税合计</th>\n",
       "      <th>批号说明</th>\n",
       "      <th>客户品号</th>\n",
       "      <th>客户品名</th>\n",
       "      <th>客户规格</th>\n",
       "      <th>项目编号</th>\n",
       "      <th>项目名称</th>\n",
       "    </tr>\n",
       "  </thead>\n",
       "  <tbody>\n",
       "    <tr>\n",
       "      <th>0</th>\n",
       "      <td>0008</td>\n",
       "      <td>华电众信</td>\n",
       "      <td>工业自动化事业部</td>\n",
       "      <td>谢颖</td>\n",
       "      <td>NaN</td>\n",
       "      <td>NaN</td>\n",
       "      <td>NaN</td>\n",
       "      <td>NaN</td>\n",
       "      <td>NaN</td>\n",
       "      <td>NaN</td>\n",
       "      <td>...</td>\n",
       "      <td>NaN</td>\n",
       "      <td>1</td>\n",
       "      <td>376.0</td>\n",
       "      <td>376.0</td>\n",
       "      <td>NaN</td>\n",
       "      <td>NaN</td>\n",
       "      <td>NaN</td>\n",
       "      <td>NaN</td>\n",
       "      <td>NaN</td>\n",
       "      <td>NaN</td>\n",
       "    </tr>\n",
       "    <tr>\n",
       "      <th>1</th>\n",
       "      <td>0008</td>\n",
       "      <td>华电众信</td>\n",
       "      <td>工业自动化事业部</td>\n",
       "      <td>谢颖</td>\n",
       "      <td>NaN</td>\n",
       "      <td>NaN</td>\n",
       "      <td>NaN</td>\n",
       "      <td>NaN</td>\n",
       "      <td>NaN</td>\n",
       "      <td>NaN</td>\n",
       "      <td>...</td>\n",
       "      <td>NaN</td>\n",
       "      <td>1</td>\n",
       "      <td>1457.0</td>\n",
       "      <td>1457.0</td>\n",
       "      <td>NaN</td>\n",
       "      <td>NaN</td>\n",
       "      <td>NaN</td>\n",
       "      <td>NaN</td>\n",
       "      <td>NaN</td>\n",
       "      <td>NaN</td>\n",
       "    </tr>\n",
       "  </tbody>\n",
       "</table>\n",
       "<p>2 rows × 49 columns</p>\n",
       "</div>"
      ],
      "text/plain": [
       "   客户编号  客户简称        部门 业务员  渠道  类型  地区  国家  路线  其他 ...  客户单号 已开票数量  原币价税合计  \\\n",
       "0  0008  华电众信  工业自动化事业部  谢颖 NaN NaN NaN NaN NaN NaN ...   NaN     1   376.0   \n",
       "1  0008  华电众信  工业自动化事业部  谢颖 NaN NaN NaN NaN NaN NaN ...   NaN     1  1457.0   \n",
       "\n",
       "   本币价税合计 批号说明 客户品号 客户品名 客户规格 项目编号 项目名称  \n",
       "0   376.0  NaN  NaN  NaN  NaN  NaN  NaN  \n",
       "1  1457.0  NaN  NaN  NaN  NaN  NaN  NaN  \n",
       "\n",
       "[2 rows x 49 columns]"
      ]
     },
     "execution_count": 34,
     "metadata": {},
     "output_type": "execute_result"
    }
   ],
   "source": [
    "data2=pd.read_excel(open(r'E:\\公司数据\\20180701-20181231立华销货明细.xls','rb'))\n",
    "data2.head(2)"
   ]
  },
  {
   "cell_type": "code",
   "execution_count": 35,
   "metadata": {},
   "outputs": [],
   "source": [
    "data=pd.concat([data1,data2],ignore_index=True)"
   ]
  },
  {
   "cell_type": "code",
   "execution_count": 36,
   "metadata": {},
   "outputs": [
    {
     "data": {
      "text/html": [
       "<div>\n",
       "<style scoped>\n",
       "    .dataframe tbody tr th:only-of-type {\n",
       "        vertical-align: middle;\n",
       "    }\n",
       "\n",
       "    .dataframe tbody tr th {\n",
       "        vertical-align: top;\n",
       "    }\n",
       "\n",
       "    .dataframe thead th {\n",
       "        text-align: right;\n",
       "    }\n",
       "</style>\n",
       "<table border=\"1\" class=\"dataframe\">\n",
       "  <thead>\n",
       "    <tr style=\"text-align: right;\">\n",
       "      <th></th>\n",
       "      <th>客户编号</th>\n",
       "      <th>客户简称</th>\n",
       "      <th>部门</th>\n",
       "      <th>业务员</th>\n",
       "      <th>渠道</th>\n",
       "      <th>类型</th>\n",
       "      <th>地区</th>\n",
       "      <th>国家</th>\n",
       "      <th>路线</th>\n",
       "      <th>其他</th>\n",
       "      <th>...</th>\n",
       "      <th>客户单号</th>\n",
       "      <th>已开票数量</th>\n",
       "      <th>原币价税合计</th>\n",
       "      <th>本币价税合计</th>\n",
       "      <th>批号说明</th>\n",
       "      <th>客户品号</th>\n",
       "      <th>客户品名</th>\n",
       "      <th>客户规格</th>\n",
       "      <th>项目编号</th>\n",
       "      <th>项目名称</th>\n",
       "    </tr>\n",
       "  </thead>\n",
       "  <tbody>\n",
       "    <tr>\n",
       "      <th>0</th>\n",
       "      <td>0008</td>\n",
       "      <td>华电众信</td>\n",
       "      <td>工业自动化事业部</td>\n",
       "      <td>谢颖</td>\n",
       "      <td>NaN</td>\n",
       "      <td>NaN</td>\n",
       "      <td>NaN</td>\n",
       "      <td>NaN</td>\n",
       "      <td>NaN</td>\n",
       "      <td>NaN</td>\n",
       "      <td>...</td>\n",
       "      <td>NaN</td>\n",
       "      <td>1</td>\n",
       "      <td>467.0</td>\n",
       "      <td>467.0</td>\n",
       "      <td>NaN</td>\n",
       "      <td>NaN</td>\n",
       "      <td>NaN</td>\n",
       "      <td>NaN</td>\n",
       "      <td>NaN</td>\n",
       "      <td>NaN</td>\n",
       "    </tr>\n",
       "  </tbody>\n",
       "</table>\n",
       "<p>1 rows × 49 columns</p>\n",
       "</div>"
      ],
      "text/plain": [
       "   客户编号  客户简称        部门 业务员  渠道  类型  地区  国家  路线  其他 ...  客户单号 已开票数量 原币价税合计  \\\n",
       "0  0008  华电众信  工业自动化事业部  谢颖 NaN NaN NaN NaN NaN NaN ...   NaN     1  467.0   \n",
       "\n",
       "  本币价税合计 批号说明 客户品号 客户品名 客户规格 项目编号 项目名称  \n",
       "0  467.0  NaN  NaN  NaN  NaN  NaN  NaN  \n",
       "\n",
       "[1 rows x 49 columns]"
      ]
     },
     "execution_count": 36,
     "metadata": {},
     "output_type": "execute_result"
    }
   ],
   "source": [
    "data.head(1)"
   ]
  },
  {
   "cell_type": "code",
   "execution_count": 37,
   "metadata": {},
   "outputs": [],
   "source": [
    "data=data[['客户简称','部门','业务员','品  名','日期','销货数量','单价']]"
   ]
  },
  {
   "cell_type": "code",
   "execution_count": 38,
   "metadata": {},
   "outputs": [
    {
     "data": {
      "text/html": [
       "<div>\n",
       "<style scoped>\n",
       "    .dataframe tbody tr th:only-of-type {\n",
       "        vertical-align: middle;\n",
       "    }\n",
       "\n",
       "    .dataframe tbody tr th {\n",
       "        vertical-align: top;\n",
       "    }\n",
       "\n",
       "    .dataframe thead th {\n",
       "        text-align: right;\n",
       "    }\n",
       "</style>\n",
       "<table border=\"1\" class=\"dataframe\">\n",
       "  <thead>\n",
       "    <tr style=\"text-align: right;\">\n",
       "      <th></th>\n",
       "      <th>客户简称</th>\n",
       "      <th>部门</th>\n",
       "      <th>业务员</th>\n",
       "      <th>品  名</th>\n",
       "      <th>日期</th>\n",
       "      <th>销货数量</th>\n",
       "      <th>单价</th>\n",
       "    </tr>\n",
       "  </thead>\n",
       "  <tbody>\n",
       "    <tr>\n",
       "      <th>0</th>\n",
       "      <td>华电众信</td>\n",
       "      <td>工业自动化事业部</td>\n",
       "      <td>谢颖</td>\n",
       "      <td>电源</td>\n",
       "      <td>2018-01-08</td>\n",
       "      <td>1</td>\n",
       "      <td>467.0</td>\n",
       "    </tr>\n",
       "    <tr>\n",
       "      <th>1</th>\n",
       "      <td>华电众信</td>\n",
       "      <td>工业自动化事业部</td>\n",
       "      <td>谢颖</td>\n",
       "      <td>电源</td>\n",
       "      <td>2018-01-08</td>\n",
       "      <td>1</td>\n",
       "      <td>78.0</td>\n",
       "    </tr>\n",
       "    <tr>\n",
       "      <th>2</th>\n",
       "      <td>华电众信</td>\n",
       "      <td>工业自动化事业部</td>\n",
       "      <td>谢颖</td>\n",
       "      <td>电源</td>\n",
       "      <td>2018-01-08</td>\n",
       "      <td>3</td>\n",
       "      <td>78.0</td>\n",
       "    </tr>\n",
       "    <tr>\n",
       "      <th>3</th>\n",
       "      <td>华电众信</td>\n",
       "      <td>工业自动化事业部</td>\n",
       "      <td>谢颖</td>\n",
       "      <td>&amp;电源   （无样品无CAS）</td>\n",
       "      <td>2018-01-08</td>\n",
       "      <td>2</td>\n",
       "      <td>1090.0</td>\n",
       "    </tr>\n",
       "    <tr>\n",
       "      <th>4</th>\n",
       "      <td>华电众信</td>\n",
       "      <td>工业自动化事业部</td>\n",
       "      <td>谢颖</td>\n",
       "      <td>&amp;电源   （无样品无CAS）</td>\n",
       "      <td>2018-01-08</td>\n",
       "      <td>2</td>\n",
       "      <td>1090.0</td>\n",
       "    </tr>\n",
       "  </tbody>\n",
       "</table>\n",
       "</div>"
      ],
      "text/plain": [
       "   客户简称        部门 业务员             品  名          日期  销货数量      单价\n",
       "0  华电众信  工业自动化事业部  谢颖               电源  2018-01-08     1   467.0\n",
       "1  华电众信  工业自动化事业部  谢颖               电源  2018-01-08     1    78.0\n",
       "2  华电众信  工业自动化事业部  谢颖               电源  2018-01-08     3    78.0\n",
       "3  华电众信  工业自动化事业部  谢颖  &电源   （无样品无CAS）  2018-01-08     2  1090.0\n",
       "4  华电众信  工业自动化事业部  谢颖  &电源   （无样品无CAS）  2018-01-08     2  1090.0"
      ]
     },
     "execution_count": 38,
     "metadata": {},
     "output_type": "execute_result"
    }
   ],
   "source": [
    "data.head()"
   ]
  },
  {
   "cell_type": "code",
   "execution_count": 39,
   "metadata": {},
   "outputs": [
    {
     "data": {
      "text/plain": [
       "array(['谢颖', '张勇亮', '尹海洋', '刘宇思', '李艳龙', '刘坤', '陈士明', '苏冠群', '李延刚', '王建中',\n",
       "       '杨恒', '张彬', '闫春香', '李沛', '陈育坚', '李玮'], dtype=object)"
      ]
     },
     "execution_count": 39,
     "metadata": {},
     "output_type": "execute_result"
    }
   ],
   "source": [
    "data['业务员'].unique()"
   ]
  },
  {
   "cell_type": "code",
   "execution_count": 40,
   "metadata": {},
   "outputs": [
    {
     "data": {
      "text/plain": [
       "array(['华电众信', '网御星云', '天融信', '启明星辰', '锐捷网络', '网神', '东软集团', '深信服', '任子行',\n",
       "       '山石网科', '金文凯', '信锐网科', '瑞星网安', '南京创网', '志翔科技', '浪潮', '广州韵成',\n",
       "       '杭州合众', '其它', '上海春讯', '东进', '金创鑫诚', '北京格尔', '湖南神州祥网', '中宇万通',\n",
       "       '北京天元特通科技', '阿里云计算', '北京安数', '天津赢达信', '韵盛发', '安恒信息', '南京铱迅',\n",
       "       '江苏先安', '信诺瑞得', '蓝盾股份', '中国科学院', '华夏创新', '新网程', '南京北路', '中新网络',\n",
       "       '缔安科技', '深信服科技（香', '成都世纪顶点', '典基网络', '绿盟科技', '格尔软件', '立华海威',\n",
       "       '网康科技', '珠海伟思', '太一星晨', '南京优米亚', '攀克网络', '岭博科技', '赛特斯', '浩瀚深度',\n",
       "       '天元特通', '江苏未来网络', '深圳奥联', '杭州闪捷', '深圳市奥联', '杭州弗兰科', '北京恒通博联',\n",
       "       '上海集士达', '北京赛特斯', '上海循态', '北京盛世江川', '北京卫达信息', '武汉市合力', '杭州达乎',\n",
       "       '上海层峰网络', '绿盟平台', '广州安朗', '广州热点', '傲盾', '颐鑫汇明', '久华信息', '南京智达康'],\n",
       "      dtype=object)"
      ]
     },
     "execution_count": 40,
     "metadata": {},
     "output_type": "execute_result"
    }
   ],
   "source": [
    "data['客户简称'].unique()"
   ]
  },
  {
   "cell_type": "code",
   "execution_count": 41,
   "metadata": {},
   "outputs": [
    {
     "data": {
      "text/plain": [
       "array(['工业自动化事业部', '业务一部', '业务二部', '售后服务部', '业务三部', '大客户部', '深圳业务部',\n",
       "       '上海业务部', '资材部', '商务部'], dtype=object)"
      ]
     },
     "execution_count": 41,
     "metadata": {},
     "output_type": "execute_result"
    }
   ],
   "source": [
    "data['部门'].unique()"
   ]
  },
  {
   "cell_type": "code",
   "execution_count": 42,
   "metadata": {},
   "outputs": [
    {
     "data": {
      "text/plain": [
       "array(['电源', '&电源   （无样品无CAS）', '&主板', ..., '&电源下盖', '电源接地线',\n",
       "       '&主板  (无CAS)'], dtype=object)"
      ]
     },
     "execution_count": 42,
     "metadata": {},
     "output_type": "execute_result"
    }
   ],
   "source": [
    "data['品  名'].unique()"
   ]
  },
  {
   "cell_type": "code",
   "execution_count": 43,
   "metadata": {},
   "outputs": [
    {
     "data": {
      "text/plain": [
       "21"
      ]
     },
     "execution_count": 43,
     "metadata": {},
     "output_type": "execute_result"
    }
   ],
   "source": [
    "data['客户简称'].str.contains('华电众信').sum()"
   ]
  },
  {
   "cell_type": "code",
   "execution_count": 44,
   "metadata": {
    "scrolled": true
   },
   "outputs": [
    {
     "data": {
      "text/html": [
       "<div>\n",
       "<style scoped>\n",
       "    .dataframe tbody tr th:only-of-type {\n",
       "        vertical-align: middle;\n",
       "    }\n",
       "\n",
       "    .dataframe tbody tr th {\n",
       "        vertical-align: top;\n",
       "    }\n",
       "\n",
       "    .dataframe thead th {\n",
       "        text-align: right;\n",
       "    }\n",
       "</style>\n",
       "<table border=\"1\" class=\"dataframe\">\n",
       "  <thead>\n",
       "    <tr style=\"text-align: right;\">\n",
       "      <th></th>\n",
       "      <th>客户简称</th>\n",
       "      <th>部门</th>\n",
       "      <th>业务员</th>\n",
       "      <th>品  名</th>\n",
       "      <th>日期</th>\n",
       "      <th>销货数量</th>\n",
       "      <th>单价</th>\n",
       "    </tr>\n",
       "  </thead>\n",
       "  <tbody>\n",
       "    <tr>\n",
       "      <th>0</th>\n",
       "      <td>华电众信</td>\n",
       "      <td>工业自动化事业部</td>\n",
       "      <td>谢颖</td>\n",
       "      <td>电源</td>\n",
       "      <td>2018-01-08</td>\n",
       "      <td>1</td>\n",
       "      <td>467.0</td>\n",
       "    </tr>\n",
       "    <tr>\n",
       "      <th>1</th>\n",
       "      <td>华电众信</td>\n",
       "      <td>工业自动化事业部</td>\n",
       "      <td>谢颖</td>\n",
       "      <td>电源</td>\n",
       "      <td>2018-01-08</td>\n",
       "      <td>1</td>\n",
       "      <td>78.0</td>\n",
       "    </tr>\n",
       "    <tr>\n",
       "      <th>2</th>\n",
       "      <td>华电众信</td>\n",
       "      <td>工业自动化事业部</td>\n",
       "      <td>谢颖</td>\n",
       "      <td>电源</td>\n",
       "      <td>2018-01-08</td>\n",
       "      <td>3</td>\n",
       "      <td>78.0</td>\n",
       "    </tr>\n",
       "    <tr>\n",
       "      <th>3</th>\n",
       "      <td>华电众信</td>\n",
       "      <td>工业自动化事业部</td>\n",
       "      <td>谢颖</td>\n",
       "      <td>&amp;电源   （无样品无CAS）</td>\n",
       "      <td>2018-01-08</td>\n",
       "      <td>2</td>\n",
       "      <td>1090.0</td>\n",
       "    </tr>\n",
       "    <tr>\n",
       "      <th>4</th>\n",
       "      <td>华电众信</td>\n",
       "      <td>工业自动化事业部</td>\n",
       "      <td>谢颖</td>\n",
       "      <td>&amp;电源   （无样品无CAS）</td>\n",
       "      <td>2018-01-08</td>\n",
       "      <td>2</td>\n",
       "      <td>1090.0</td>\n",
       "    </tr>\n",
       "    <tr>\n",
       "      <th>5</th>\n",
       "      <td>华电众信</td>\n",
       "      <td>工业自动化事业部</td>\n",
       "      <td>谢颖</td>\n",
       "      <td>&amp;主板</td>\n",
       "      <td>2018-01-08</td>\n",
       "      <td>1</td>\n",
       "      <td>1241.0</td>\n",
       "    </tr>\n",
       "    <tr>\n",
       "      <th>6</th>\n",
       "      <td>华电众信</td>\n",
       "      <td>工业自动化事业部</td>\n",
       "      <td>谢颖</td>\n",
       "      <td>&amp;主板</td>\n",
       "      <td>2018-06-26</td>\n",
       "      <td>2</td>\n",
       "      <td>372.0</td>\n",
       "    </tr>\n",
       "    <tr>\n",
       "      <th>7</th>\n",
       "      <td>华电众信</td>\n",
       "      <td>工业自动化事业部</td>\n",
       "      <td>谢颖</td>\n",
       "      <td>&amp;主板</td>\n",
       "      <td>2018-06-26</td>\n",
       "      <td>7</td>\n",
       "      <td>399.0</td>\n",
       "    </tr>\n",
       "    <tr>\n",
       "      <th>8</th>\n",
       "      <td>华电众信</td>\n",
       "      <td>工业自动化事业部</td>\n",
       "      <td>谢颖</td>\n",
       "      <td>&amp;主板</td>\n",
       "      <td>2018-06-26</td>\n",
       "      <td>8</td>\n",
       "      <td>399.0</td>\n",
       "    </tr>\n",
       "    <tr>\n",
       "      <th>9</th>\n",
       "      <td>华电众信</td>\n",
       "      <td>工业自动化事业部</td>\n",
       "      <td>谢颖</td>\n",
       "      <td>&amp;主板</td>\n",
       "      <td>2018-06-25</td>\n",
       "      <td>4</td>\n",
       "      <td>314.0</td>\n",
       "    </tr>\n",
       "    <tr>\n",
       "      <th>10</th>\n",
       "      <td>华电众信</td>\n",
       "      <td>工业自动化事业部</td>\n",
       "      <td>谢颖</td>\n",
       "      <td>主板</td>\n",
       "      <td>2018-01-08</td>\n",
       "      <td>2</td>\n",
       "      <td>1605.0</td>\n",
       "    </tr>\n",
       "    <tr>\n",
       "      <th>11</th>\n",
       "      <td>华电众信</td>\n",
       "      <td>工业自动化事业部</td>\n",
       "      <td>谢颖</td>\n",
       "      <td>主板</td>\n",
       "      <td>2018-01-08</td>\n",
       "      <td>2</td>\n",
       "      <td>1605.0</td>\n",
       "    </tr>\n",
       "    <tr>\n",
       "      <th>12</th>\n",
       "      <td>华电众信</td>\n",
       "      <td>工业自动化事业部</td>\n",
       "      <td>谢颖</td>\n",
       "      <td>硬盘</td>\n",
       "      <td>2018-06-05</td>\n",
       "      <td>1</td>\n",
       "      <td>700.0</td>\n",
       "    </tr>\n",
       "    <tr>\n",
       "      <th>13</th>\n",
       "      <td>华电众信</td>\n",
       "      <td>工业自动化事业部</td>\n",
       "      <td>谢颖</td>\n",
       "      <td>&amp;VPN加速卡</td>\n",
       "      <td>2018-03-28</td>\n",
       "      <td>1</td>\n",
       "      <td>2500.0</td>\n",
       "    </tr>\n",
       "    <tr>\n",
       "      <th>14</th>\n",
       "      <td>华电众信</td>\n",
       "      <td>工业自动化事业部</td>\n",
       "      <td>谢颖</td>\n",
       "      <td>闪存卡</td>\n",
       "      <td>2018-06-05</td>\n",
       "      <td>1</td>\n",
       "      <td>109.0</td>\n",
       "    </tr>\n",
       "    <tr>\n",
       "      <th>15</th>\n",
       "      <td>华电众信</td>\n",
       "      <td>工业自动化事业部</td>\n",
       "      <td>谢颖</td>\n",
       "      <td>&amp;扩展模块</td>\n",
       "      <td>2018-06-05</td>\n",
       "      <td>1</td>\n",
       "      <td>1123.0</td>\n",
       "    </tr>\n",
       "    <tr>\n",
       "      <th>16</th>\n",
       "      <td>华电众信</td>\n",
       "      <td>工业自动化事业部</td>\n",
       "      <td>谢颖</td>\n",
       "      <td>电源均压板总成</td>\n",
       "      <td>2018-01-08</td>\n",
       "      <td>1</td>\n",
       "      <td>47.0</td>\n",
       "    </tr>\n",
       "    <tr>\n",
       "      <th>17</th>\n",
       "      <td>华电众信</td>\n",
       "      <td>工业自动化事业部</td>\n",
       "      <td>谢颖</td>\n",
       "      <td>机箱风扇</td>\n",
       "      <td>2018-06-05</td>\n",
       "      <td>2</td>\n",
       "      <td>30.0</td>\n",
       "    </tr>\n",
       "    <tr>\n",
       "      <th>5641</th>\n",
       "      <td>华电众信</td>\n",
       "      <td>工业自动化事业部</td>\n",
       "      <td>谢颖</td>\n",
       "      <td>机箱</td>\n",
       "      <td>2018-09-03</td>\n",
       "      <td>1</td>\n",
       "      <td>376.0</td>\n",
       "    </tr>\n",
       "    <tr>\n",
       "      <th>5642</th>\n",
       "      <td>华电众信</td>\n",
       "      <td>工业自动化事业部</td>\n",
       "      <td>谢颖</td>\n",
       "      <td>&amp;主板   无CAS</td>\n",
       "      <td>2018-09-03</td>\n",
       "      <td>1</td>\n",
       "      <td>1457.0</td>\n",
       "    </tr>\n",
       "    <tr>\n",
       "      <th>5643</th>\n",
       "      <td>华电众信</td>\n",
       "      <td>工业自动化事业部</td>\n",
       "      <td>谢颖</td>\n",
       "      <td>转接卡</td>\n",
       "      <td>2018-09-25</td>\n",
       "      <td>1</td>\n",
       "      <td>155.0</td>\n",
       "    </tr>\n",
       "  </tbody>\n",
       "</table>\n",
       "</div>"
      ],
      "text/plain": [
       "      客户简称        部门 业务员             品  名          日期  销货数量      单价\n",
       "0     华电众信  工业自动化事业部  谢颖               电源  2018-01-08     1   467.0\n",
       "1     华电众信  工业自动化事业部  谢颖               电源  2018-01-08     1    78.0\n",
       "2     华电众信  工业自动化事业部  谢颖               电源  2018-01-08     3    78.0\n",
       "3     华电众信  工业自动化事业部  谢颖  &电源   （无样品无CAS）  2018-01-08     2  1090.0\n",
       "4     华电众信  工业自动化事业部  谢颖  &电源   （无样品无CAS）  2018-01-08     2  1090.0\n",
       "5     华电众信  工业自动化事业部  谢颖              &主板  2018-01-08     1  1241.0\n",
       "6     华电众信  工业自动化事业部  谢颖              &主板  2018-06-26     2   372.0\n",
       "7     华电众信  工业自动化事业部  谢颖              &主板  2018-06-26     7   399.0\n",
       "8     华电众信  工业自动化事业部  谢颖              &主板  2018-06-26     8   399.0\n",
       "9     华电众信  工业自动化事业部  谢颖              &主板  2018-06-25     4   314.0\n",
       "10    华电众信  工业自动化事业部  谢颖               主板  2018-01-08     2  1605.0\n",
       "11    华电众信  工业自动化事业部  谢颖               主板  2018-01-08     2  1605.0\n",
       "12    华电众信  工业自动化事业部  谢颖               硬盘  2018-06-05     1   700.0\n",
       "13    华电众信  工业自动化事业部  谢颖          &VPN加速卡  2018-03-28     1  2500.0\n",
       "14    华电众信  工业自动化事业部  谢颖              闪存卡  2018-06-05     1   109.0\n",
       "15    华电众信  工业自动化事业部  谢颖            &扩展模块  2018-06-05     1  1123.0\n",
       "16    华电众信  工业自动化事业部  谢颖          电源均压板总成  2018-01-08     1    47.0\n",
       "17    华电众信  工业自动化事业部  谢颖             机箱风扇  2018-06-05     2    30.0\n",
       "5641  华电众信  工业自动化事业部  谢颖               机箱  2018-09-03     1   376.0\n",
       "5642  华电众信  工业自动化事业部  谢颖       &主板   无CAS  2018-09-03     1  1457.0\n",
       "5643  华电众信  工业自动化事业部  谢颖              转接卡  2018-09-25     1   155.0"
      ]
     },
     "execution_count": 44,
     "metadata": {},
     "output_type": "execute_result"
    }
   ],
   "source": [
    "data[data['客户简称'].str.contains('华电众信')]\n",
    "# 或data[data['客户简称'].isin(['华电众信'])]"
   ]
  },
  {
   "cell_type": "code",
   "execution_count": 45,
   "metadata": {
    "scrolled": false
   },
   "outputs": [],
   "source": [
    "data=data[~(data['客户简称'].isin(['华电众信','立华海威']))]\n",
    "data=data.reset_index(drop=True)   # 或 新增一列 data['index']=range(data.shape[0])"
   ]
  },
  {
   "cell_type": "code",
   "execution_count": 46,
   "metadata": {},
   "outputs": [
    {
     "data": {
      "text/html": [
       "<div>\n",
       "<style scoped>\n",
       "    .dataframe tbody tr th:only-of-type {\n",
       "        vertical-align: middle;\n",
       "    }\n",
       "\n",
       "    .dataframe tbody tr th {\n",
       "        vertical-align: top;\n",
       "    }\n",
       "\n",
       "    .dataframe thead th {\n",
       "        text-align: right;\n",
       "    }\n",
       "</style>\n",
       "<table border=\"1\" class=\"dataframe\">\n",
       "  <thead>\n",
       "    <tr style=\"text-align: right;\">\n",
       "      <th></th>\n",
       "      <th>客户简称</th>\n",
       "      <th>部门</th>\n",
       "      <th>业务员</th>\n",
       "      <th>品  名</th>\n",
       "      <th>日期</th>\n",
       "      <th>销货数量</th>\n",
       "      <th>单价</th>\n",
       "    </tr>\n",
       "  </thead>\n",
       "  <tbody>\n",
       "    <tr>\n",
       "      <th>0</th>\n",
       "      <td>网御星云</td>\n",
       "      <td>业务一部</td>\n",
       "      <td>张勇亮</td>\n",
       "      <td>NAP-8865-LX-71整机</td>\n",
       "      <td>2018-01-22</td>\n",
       "      <td>5</td>\n",
       "      <td>8600.0</td>\n",
       "    </tr>\n",
       "    <tr>\n",
       "      <th>1</th>\n",
       "      <td>网御星云</td>\n",
       "      <td>业务二部</td>\n",
       "      <td>尹海洋</td>\n",
       "      <td>NAP-8865-LX-71整机</td>\n",
       "      <td>2018-05-21</td>\n",
       "      <td>5</td>\n",
       "      <td>8526.5</td>\n",
       "    </tr>\n",
       "    <tr>\n",
       "      <th>2</th>\n",
       "      <td>网御星云</td>\n",
       "      <td>业务一部</td>\n",
       "      <td>尹海洋</td>\n",
       "      <td>NAP-8865-LX-71整机</td>\n",
       "      <td>2018-06-15</td>\n",
       "      <td>5</td>\n",
       "      <td>8526.5</td>\n",
       "    </tr>\n",
       "    <tr>\n",
       "      <th>3</th>\n",
       "      <td>网御星云</td>\n",
       "      <td>业务一部</td>\n",
       "      <td>尹海洋</td>\n",
       "      <td>NAP-8865X-LX-77整机</td>\n",
       "      <td>2018-06-19</td>\n",
       "      <td>5</td>\n",
       "      <td>11000.0</td>\n",
       "    </tr>\n",
       "    <tr>\n",
       "      <th>4</th>\n",
       "      <td>网御星云</td>\n",
       "      <td>业务一部</td>\n",
       "      <td>尹海洋</td>\n",
       "      <td>NAP-8865X-LX-77整机</td>\n",
       "      <td>2018-06-19</td>\n",
       "      <td>1</td>\n",
       "      <td>11000.0</td>\n",
       "    </tr>\n",
       "  </tbody>\n",
       "</table>\n",
       "</div>"
      ],
      "text/plain": [
       "   客户简称    部门  业务员               品  名          日期  销货数量       单价\n",
       "0  网御星云  业务一部  张勇亮   NAP-8865-LX-71整机  2018-01-22     5   8600.0\n",
       "1  网御星云  业务二部  尹海洋   NAP-8865-LX-71整机  2018-05-21     5   8526.5\n",
       "2  网御星云  业务一部  尹海洋   NAP-8865-LX-71整机  2018-06-15     5   8526.5\n",
       "3  网御星云  业务一部  尹海洋  NAP-8865X-LX-77整机  2018-06-19     5  11000.0\n",
       "4  网御星云  业务一部  尹海洋  NAP-8865X-LX-77整机  2018-06-19     1  11000.0"
      ]
     },
     "execution_count": 46,
     "metadata": {},
     "output_type": "execute_result"
    }
   ],
   "source": [
    "data.head()"
   ]
  },
  {
   "cell_type": "code",
   "execution_count": 47,
   "metadata": {},
   "outputs": [],
   "source": [
    "data.to_excel(r'E:\\data\\sale2018.xlsx',index=False)"
   ]
  },
  {
   "cell_type": "code",
   "execution_count": 48,
   "metadata": {},
   "outputs": [
    {
     "name": "stdout",
     "output_type": "stream",
     "text": [
      "<class 'pandas.core.frame.DataFrame'>\n",
      "RangeIndex: 13903 entries, 0 to 13902\n",
      "Data columns (total 7 columns):\n",
      "客户简称    13903 non-null object\n",
      "部门      13903 non-null object\n",
      "业务员     13903 non-null object\n",
      "品  名    13903 non-null object\n",
      "日期      13903 non-null object\n",
      "销货数量    13903 non-null int64\n",
      "单价      13903 non-null float64\n",
      "dtypes: float64(1), int64(1), object(5)\n",
      "memory usage: 760.4+ KB\n"
     ]
    }
   ],
   "source": [
    "data.info()"
   ]
  },
  {
   "cell_type": "code",
   "execution_count": 49,
   "metadata": {},
   "outputs": [
    {
     "data": {
      "text/plain": [
       "array(['张勇亮', '尹海洋', '刘宇思', '李艳龙', '刘坤', '陈士明', '苏冠群', '李延刚', '王建中', '杨恒',\n",
       "       '张彬', '李沛', '陈育坚'], dtype=object)"
      ]
     },
     "execution_count": 49,
     "metadata": {},
     "output_type": "execute_result"
    }
   ],
   "source": [
    "data['业务员'].unique()"
   ]
  },
  {
   "cell_type": "code",
   "execution_count": 50,
   "metadata": {},
   "outputs": [],
   "source": [
    "data['日期']=pd.to_datetime(data['日期'])"
   ]
  },
  {
   "cell_type": "code",
   "execution_count": 51,
   "metadata": {},
   "outputs": [
    {
     "name": "stdout",
     "output_type": "stream",
     "text": [
      "<class 'pandas.core.frame.DataFrame'>\n",
      "RangeIndex: 13903 entries, 0 to 13902\n",
      "Data columns (total 7 columns):\n",
      "客户简称    13903 non-null object\n",
      "部门      13903 non-null object\n",
      "业务员     13903 non-null object\n",
      "品  名    13903 non-null object\n",
      "日期      13903 non-null datetime64[ns]\n",
      "销货数量    13903 non-null int64\n",
      "单价      13903 non-null float64\n",
      "dtypes: datetime64[ns](1), float64(1), int64(1), object(4)\n",
      "memory usage: 760.4+ KB\n"
     ]
    }
   ],
   "source": [
    "data.info()"
   ]
  },
  {
   "cell_type": "code",
   "execution_count": 52,
   "metadata": {},
   "outputs": [
    {
     "data": {
      "text/html": [
       "<div>\n",
       "<style scoped>\n",
       "    .dataframe tbody tr th:only-of-type {\n",
       "        vertical-align: middle;\n",
       "    }\n",
       "\n",
       "    .dataframe tbody tr th {\n",
       "        vertical-align: top;\n",
       "    }\n",
       "\n",
       "    .dataframe thead th {\n",
       "        text-align: right;\n",
       "    }\n",
       "</style>\n",
       "<table border=\"1\" class=\"dataframe\">\n",
       "  <thead>\n",
       "    <tr style=\"text-align: right;\">\n",
       "      <th></th>\n",
       "      <th>客户简称</th>\n",
       "      <th>部门</th>\n",
       "      <th>业务员</th>\n",
       "      <th>品  名</th>\n",
       "      <th>销货数量</th>\n",
       "      <th>单价</th>\n",
       "    </tr>\n",
       "    <tr>\n",
       "      <th>日期</th>\n",
       "      <th></th>\n",
       "      <th></th>\n",
       "      <th></th>\n",
       "      <th></th>\n",
       "      <th></th>\n",
       "      <th></th>\n",
       "    </tr>\n",
       "  </thead>\n",
       "  <tbody>\n",
       "    <tr>\n",
       "      <th>2018-01-22</th>\n",
       "      <td>网御星云</td>\n",
       "      <td>业务一部</td>\n",
       "      <td>张勇亮</td>\n",
       "      <td>NAP-8865-LX-71整机</td>\n",
       "      <td>5</td>\n",
       "      <td>8600.0</td>\n",
       "    </tr>\n",
       "    <tr>\n",
       "      <th>2018-05-21</th>\n",
       "      <td>网御星云</td>\n",
       "      <td>业务二部</td>\n",
       "      <td>尹海洋</td>\n",
       "      <td>NAP-8865-LX-71整机</td>\n",
       "      <td>5</td>\n",
       "      <td>8526.5</td>\n",
       "    </tr>\n",
       "  </tbody>\n",
       "</table>\n",
       "</div>"
      ],
      "text/plain": [
       "            客户简称    部门  业务员              品  名  销货数量      单价\n",
       "日期                                                         \n",
       "2018-01-22  网御星云  业务一部  张勇亮  NAP-8865-LX-71整机     5  8600.0\n",
       "2018-05-21  网御星云  业务二部  尹海洋  NAP-8865-LX-71整机     5  8526.5"
      ]
     },
     "execution_count": 52,
     "metadata": {},
     "output_type": "execute_result"
    }
   ],
   "source": [
    "data=data.set_index('日期')\n",
    "data.head(2)"
   ]
  },
  {
   "cell_type": "code",
   "execution_count": 53,
   "metadata": {},
   "outputs": [
    {
     "data": {
      "text/html": [
       "<div>\n",
       "<style scoped>\n",
       "    .dataframe tbody tr th:only-of-type {\n",
       "        vertical-align: middle;\n",
       "    }\n",
       "\n",
       "    .dataframe tbody tr th {\n",
       "        vertical-align: top;\n",
       "    }\n",
       "\n",
       "    .dataframe thead th {\n",
       "        text-align: right;\n",
       "    }\n",
       "</style>\n",
       "<table border=\"1\" class=\"dataframe\">\n",
       "  <thead>\n",
       "    <tr style=\"text-align: right;\">\n",
       "      <th></th>\n",
       "      <th>客户简称</th>\n",
       "      <th>部门</th>\n",
       "      <th>业务员</th>\n",
       "      <th>品  名</th>\n",
       "      <th>销货数量</th>\n",
       "      <th>单价</th>\n",
       "    </tr>\n",
       "    <tr>\n",
       "      <th>日期</th>\n",
       "      <th></th>\n",
       "      <th></th>\n",
       "      <th></th>\n",
       "      <th></th>\n",
       "      <th></th>\n",
       "      <th></th>\n",
       "    </tr>\n",
       "  </thead>\n",
       "  <tbody>\n",
       "    <tr>\n",
       "      <th>2018-01</th>\n",
       "      <td>网御星云</td>\n",
       "      <td>业务一部</td>\n",
       "      <td>张勇亮</td>\n",
       "      <td>NAP-8865-LX-71整机</td>\n",
       "      <td>5</td>\n",
       "      <td>8600.0</td>\n",
       "    </tr>\n",
       "    <tr>\n",
       "      <th>2018-05</th>\n",
       "      <td>网御星云</td>\n",
       "      <td>业务二部</td>\n",
       "      <td>尹海洋</td>\n",
       "      <td>NAP-8865-LX-71整机</td>\n",
       "      <td>5</td>\n",
       "      <td>8526.5</td>\n",
       "    </tr>\n",
       "  </tbody>\n",
       "</table>\n",
       "</div>"
      ],
      "text/plain": [
       "         客户简称    部门  业务员              品  名  销货数量      单价\n",
       "日期                                                      \n",
       "2018-01  网御星云  业务一部  张勇亮  NAP-8865-LX-71整机     5  8600.0\n",
       "2018-05  网御星云  业务二部  尹海洋  NAP-8865-LX-71整机     5  8526.5"
      ]
     },
     "execution_count": 53,
     "metadata": {},
     "output_type": "execute_result"
    }
   ],
   "source": [
    "data=data.to_period('M')\n",
    "data.head(2)"
   ]
  },
  {
   "cell_type": "code",
   "execution_count": 54,
   "metadata": {},
   "outputs": [],
   "source": [
    "data['销售额']=data['销货数量']*data['单价']\n",
    "data['销售额']=round(data['销售额']/10000,2)"
   ]
  },
  {
   "cell_type": "code",
   "execution_count": 55,
   "metadata": {
    "scrolled": true
   },
   "outputs": [
    {
     "data": {
      "text/html": [
       "<div>\n",
       "<style scoped>\n",
       "    .dataframe tbody tr th:only-of-type {\n",
       "        vertical-align: middle;\n",
       "    }\n",
       "\n",
       "    .dataframe tbody tr th {\n",
       "        vertical-align: top;\n",
       "    }\n",
       "\n",
       "    .dataframe thead th {\n",
       "        text-align: right;\n",
       "    }\n",
       "</style>\n",
       "<table border=\"1\" class=\"dataframe\">\n",
       "  <thead>\n",
       "    <tr style=\"text-align: right;\">\n",
       "      <th></th>\n",
       "      <th>客户简称</th>\n",
       "      <th>部门</th>\n",
       "      <th>业务员</th>\n",
       "      <th>品  名</th>\n",
       "      <th>销货数量</th>\n",
       "      <th>单价</th>\n",
       "      <th>销售额</th>\n",
       "    </tr>\n",
       "    <tr>\n",
       "      <th>日期</th>\n",
       "      <th></th>\n",
       "      <th></th>\n",
       "      <th></th>\n",
       "      <th></th>\n",
       "      <th></th>\n",
       "      <th></th>\n",
       "      <th></th>\n",
       "    </tr>\n",
       "  </thead>\n",
       "  <tbody>\n",
       "    <tr>\n",
       "      <th>2018-01</th>\n",
       "      <td>网御星云</td>\n",
       "      <td>业务一部</td>\n",
       "      <td>张勇亮</td>\n",
       "      <td>NAP-8865-LX-71整机</td>\n",
       "      <td>5</td>\n",
       "      <td>8600.0</td>\n",
       "      <td>4.30</td>\n",
       "    </tr>\n",
       "    <tr>\n",
       "      <th>2018-05</th>\n",
       "      <td>网御星云</td>\n",
       "      <td>业务二部</td>\n",
       "      <td>尹海洋</td>\n",
       "      <td>NAP-8865-LX-71整机</td>\n",
       "      <td>5</td>\n",
       "      <td>8526.5</td>\n",
       "      <td>4.26</td>\n",
       "    </tr>\n",
       "  </tbody>\n",
       "</table>\n",
       "</div>"
      ],
      "text/plain": [
       "         客户简称    部门  业务员              品  名  销货数量      单价   销售额\n",
       "日期                                                            \n",
       "2018-01  网御星云  业务一部  张勇亮  NAP-8865-LX-71整机     5  8600.0  4.30\n",
       "2018-05  网御星云  业务二部  尹海洋  NAP-8865-LX-71整机     5  8526.5  4.26"
      ]
     },
     "execution_count": 55,
     "metadata": {},
     "output_type": "execute_result"
    }
   ],
   "source": [
    "data.head(2)"
   ]
  },
  {
   "cell_type": "code",
   "execution_count": 56,
   "metadata": {
    "scrolled": true
   },
   "outputs": [
    {
     "data": {
      "text/plain": [
       "<matplotlib.figure.Figure at 0x195d887d0b8>"
      ]
     },
     "execution_count": 56,
     "metadata": {},
     "output_type": "execute_result"
    },
    {
     "data": {
      "image/png": "[encoded data removed]",
      "text/plain": [
       "<matplotlib.figure.Figure at 0x195d887d358>"
      ]
     },
     "metadata": {},
     "output_type": "display_data"
    },
    {
     "data": {
      "text/plain": [
       "<matplotlib.figure.Figure at 0x195d887d0b8>"
      ]
     },
     "metadata": {},
     "output_type": "display_data"
    }
   ],
   "source": [
    "plt.style.use('ggplot')\n",
    "data.groupby(['日期','部门'])['销售额'].sum().unstack().plot()\n",
    "plt.figure(figsize=(10,10)) #好像没改变画布大小？"
   ]
  },
  {
   "cell_type": "code",
   "execution_count": 57,
   "metadata": {
    "scrolled": false
   },
   "outputs": [
    {
     "data": {
      "text/plain": [
       "<matplotlib.legend.Legend at 0x195d887dda0>"
      ]
     },
     "execution_count": 57,
     "metadata": {},
     "output_type": "execute_result"
    },
    {
     "data": {
      "image/png": "[encoded data removed]",
      "text/plain": [
       "<matplotlib.figure.Figure at 0x195d887da90>"
      ]
     },
     "metadata": {},
     "output_type": "display_data"
    }
   ],
   "source": [
    "data.groupby(['日期','业务员'])['销售额'].sum().unstack().plot()\n",
    "plt.legend(loc=2)"
   ]
  },
  {
   "cell_type": "code",
   "execution_count": 58,
   "metadata": {
    "scrolled": true
   },
   "outputs": [
    {
     "data": {
      "text/plain": [
       "Text(0,0.5,'销售额')"
      ]
     },
     "execution_count": 58,
     "metadata": {},
     "output_type": "execute_result"
    },
    {
     "data": {
      "image/png": "[encoded data removed]",
      "text/plain": [
       "<matplotlib.figure.Figure at 0x195d7a01fd0>"
      ]
     },
     "metadata": {},
     "output_type": "display_data"
    }
   ],
   "source": [
    "data.groupby('日期')['销售额'].sum().plot.bar()\n",
    "plt.ylabel('销售额')"
   ]
  },
  {
   "cell_type": "code",
   "execution_count": 59,
   "metadata": {
    "scrolled": true
   },
   "outputs": [
    {
     "data": {
      "text/plain": [
       "日期\n",
       "2018-01    2727.34\n",
       "2018-02    1247.78\n",
       "2018-03    2397.00\n",
       "2018-04    1750.66\n",
       "2018-05    1932.07\n",
       "2018-06    2279.51\n",
       "2018-07    2875.94\n",
       "2018-08    2619.69\n",
       "2018-09    3290.27\n",
       "2018-10    3003.09\n",
       "2018-11    3919.74\n",
       "2018-12    6037.65\n",
       "Freq: M, Name: 销售额, dtype: float64"
      ]
     },
     "execution_count": 59,
     "metadata": {},
     "output_type": "execute_result"
    }
   ],
   "source": [
    "data.groupby('日期')['销售额'].sum()"
   ]
  },
  {
   "cell_type": "code",
   "execution_count": 60,
   "metadata": {},
   "outputs": [
    {
     "data": {
      "text/html": [
       "<div>\n",
       "<style scoped>\n",
       "    .dataframe tbody tr th:only-of-type {\n",
       "        vertical-align: middle;\n",
       "    }\n",
       "\n",
       "    .dataframe tbody tr th {\n",
       "        vertical-align: top;\n",
       "    }\n",
       "\n",
       "    .dataframe thead th {\n",
       "        text-align: right;\n",
       "    }\n",
       "</style>\n",
       "<table border=\"1\" class=\"dataframe\">\n",
       "  <thead>\n",
       "    <tr style=\"text-align: right;\">\n",
       "      <th></th>\n",
       "      <th>客户简称</th>\n",
       "      <th>部门</th>\n",
       "      <th>业务员</th>\n",
       "      <th>品  名</th>\n",
       "      <th>销货数量</th>\n",
       "      <th>单价</th>\n",
       "      <th>销售额</th>\n",
       "    </tr>\n",
       "    <tr>\n",
       "      <th>日期</th>\n",
       "      <th></th>\n",
       "      <th></th>\n",
       "      <th></th>\n",
       "      <th></th>\n",
       "      <th></th>\n",
       "      <th></th>\n",
       "      <th></th>\n",
       "    </tr>\n",
       "  </thead>\n",
       "  <tbody>\n",
       "    <tr>\n",
       "      <th>2018-01</th>\n",
       "      <td>网御星云</td>\n",
       "      <td>业务一部</td>\n",
       "      <td>张勇亮</td>\n",
       "      <td>NAP-8865-LX-71整机</td>\n",
       "      <td>5</td>\n",
       "      <td>8600.0</td>\n",
       "      <td>4.30</td>\n",
       "    </tr>\n",
       "    <tr>\n",
       "      <th>2018-05</th>\n",
       "      <td>网御星云</td>\n",
       "      <td>业务二部</td>\n",
       "      <td>尹海洋</td>\n",
       "      <td>NAP-8865-LX-71整机</td>\n",
       "      <td>5</td>\n",
       "      <td>8526.5</td>\n",
       "      <td>4.26</td>\n",
       "    </tr>\n",
       "  </tbody>\n",
       "</table>\n",
       "</div>"
      ],
      "text/plain": [
       "         客户简称    部门  业务员              品  名  销货数量      单价   销售额\n",
       "日期                                                            \n",
       "2018-01  网御星云  业务一部  张勇亮  NAP-8865-LX-71整机     5  8600.0  4.30\n",
       "2018-05  网御星云  业务二部  尹海洋  NAP-8865-LX-71整机     5  8526.5  4.26"
      ]
     },
     "execution_count": 60,
     "metadata": {},
     "output_type": "execute_result"
    }
   ],
   "source": [
    "#求销售额单笔最大的一行数据\n",
    "data.head(2)"
   ]
  },
  {
   "cell_type": "code",
   "execution_count": 61,
   "metadata": {},
   "outputs": [
    {
     "data": {
      "text/plain": [
       "客户简称      颐鑫汇明\n",
       "部门       深圳业务部\n",
       "业务员        陈育坚\n",
       "品  名    食人鱼灯模组\n",
       "销货数量      1500\n",
       "单价      382077\n",
       "销售额      135.2\n",
       "dtype: object"
      ]
     },
     "execution_count": 61,
     "metadata": {},
     "output_type": "execute_result"
    }
   ],
   "source": [
    "data.max()"
   ]
  },
  {
   "cell_type": "code",
   "execution_count": 62,
   "metadata": {},
   "outputs": [],
   "source": [
    "data_top10=data.sort_values(by='销售额',ascending=False)[:10]"
   ]
  },
  {
   "cell_type": "code",
   "execution_count": 63,
   "metadata": {},
   "outputs": [
    {
     "data": {
      "text/html": [
       "<div>\n",
       "<style scoped>\n",
       "    .dataframe tbody tr th:only-of-type {\n",
       "        vertical-align: middle;\n",
       "    }\n",
       "\n",
       "    .dataframe tbody tr th {\n",
       "        vertical-align: top;\n",
       "    }\n",
       "\n",
       "    .dataframe thead th {\n",
       "        text-align: right;\n",
       "    }\n",
       "</style>\n",
       "<table border=\"1\" class=\"dataframe\">\n",
       "  <thead>\n",
       "    <tr style=\"text-align: right;\">\n",
       "      <th></th>\n",
       "      <th>客户简称</th>\n",
       "      <th>部门</th>\n",
       "      <th>业务员</th>\n",
       "      <th>品  名</th>\n",
       "      <th>销货数量</th>\n",
       "      <th>单价</th>\n",
       "      <th>销售额</th>\n",
       "    </tr>\n",
       "    <tr>\n",
       "      <th>日期</th>\n",
       "      <th></th>\n",
       "      <th></th>\n",
       "      <th></th>\n",
       "      <th></th>\n",
       "      <th></th>\n",
       "      <th></th>\n",
       "      <th></th>\n",
       "    </tr>\n",
       "  </thead>\n",
       "  <tbody>\n",
       "    <tr>\n",
       "      <th>2018-10</th>\n",
       "      <td>绿盟科技</td>\n",
       "      <td>大客户部</td>\n",
       "      <td>陈士明</td>\n",
       "      <td>HTCA-6600-SZLM-81整机（新）</td>\n",
       "      <td>4</td>\n",
       "      <td>338004.00</td>\n",
       "      <td>135.20</td>\n",
       "    </tr>\n",
       "    <tr>\n",
       "      <th>2018-12</th>\n",
       "      <td>网神</td>\n",
       "      <td>大客户部</td>\n",
       "      <td>李艳龙</td>\n",
       "      <td>NAP-8896-360-12整机(新)</td>\n",
       "      <td>20</td>\n",
       "      <td>51800.00</td>\n",
       "      <td>103.60</td>\n",
       "    </tr>\n",
       "    <tr>\n",
       "      <th>2018-01</th>\n",
       "      <td>网神</td>\n",
       "      <td>业务一部</td>\n",
       "      <td>刘坤</td>\n",
       "      <td>NAP-8895-WSXX-66整机（快）</td>\n",
       "      <td>30</td>\n",
       "      <td>30180.00</td>\n",
       "      <td>90.54</td>\n",
       "    </tr>\n",
       "    <tr>\n",
       "      <th>2018-12</th>\n",
       "      <td>绿盟科技</td>\n",
       "      <td>大客户部</td>\n",
       "      <td>陈士明</td>\n",
       "      <td>HTCA-6600-SZLM-85整机（新）</td>\n",
       "      <td>3</td>\n",
       "      <td>293931.00</td>\n",
       "      <td>88.18</td>\n",
       "    </tr>\n",
       "    <tr>\n",
       "      <th>2018-07</th>\n",
       "      <td>启明星辰</td>\n",
       "      <td>业务一部</td>\n",
       "      <td>尹海洋</td>\n",
       "      <td>NAP-8865-QMXC-86整机</td>\n",
       "      <td>37</td>\n",
       "      <td>21811.97</td>\n",
       "      <td>80.70</td>\n",
       "    </tr>\n",
       "    <tr>\n",
       "      <th>2018-08</th>\n",
       "      <td>蓝盾股份</td>\n",
       "      <td>深圳业务部</td>\n",
       "      <td>王建中</td>\n",
       "      <td>FW-8877-GZLD-34整机（快）</td>\n",
       "      <td>40</td>\n",
       "      <td>19200.00</td>\n",
       "      <td>76.80</td>\n",
       "    </tr>\n",
       "    <tr>\n",
       "      <th>2018-10</th>\n",
       "      <td>绿盟科技</td>\n",
       "      <td>大客户部</td>\n",
       "      <td>陈士明</td>\n",
       "      <td>HTCA-6600-SZLM-82整机（新）</td>\n",
       "      <td>2</td>\n",
       "      <td>382077.00</td>\n",
       "      <td>76.42</td>\n",
       "    </tr>\n",
       "    <tr>\n",
       "      <th>2018-09</th>\n",
       "      <td>网神</td>\n",
       "      <td>业务一部</td>\n",
       "      <td>李艳龙</td>\n",
       "      <td>NAP-8896-360-01整机(新)   签核转正</td>\n",
       "      <td>23</td>\n",
       "      <td>31783.00</td>\n",
       "      <td>73.10</td>\n",
       "    </tr>\n",
       "    <tr>\n",
       "      <th>2018-07</th>\n",
       "      <td>启明星辰</td>\n",
       "      <td>业务一部</td>\n",
       "      <td>尹海洋</td>\n",
       "      <td>NAP-8865-QMXC-86整机</td>\n",
       "      <td>33</td>\n",
       "      <td>21811.97</td>\n",
       "      <td>71.98</td>\n",
       "    </tr>\n",
       "    <tr>\n",
       "      <th>2018-12</th>\n",
       "      <td>天融信</td>\n",
       "      <td>大客户部</td>\n",
       "      <td>李沛</td>\n",
       "      <td>FW-7576-TRX-46整机（新）</td>\n",
       "      <td>100</td>\n",
       "      <td>6246.00</td>\n",
       "      <td>62.46</td>\n",
       "    </tr>\n",
       "  </tbody>\n",
       "</table>\n",
       "</div>"
      ],
      "text/plain": [
       "         客户简称     部门  业务员                         品  名  销货数量         单价  \\\n",
       "日期                                                                        \n",
       "2018-10  绿盟科技   大客户部  陈士明       HTCA-6600-SZLM-81整机（新）     4  338004.00   \n",
       "2018-12    网神   大客户部  李艳龙         NAP-8896-360-12整机(新)    20   51800.00   \n",
       "2018-01    网神   业务一部   刘坤        NAP-8895-WSXX-66整机（快）    30   30180.00   \n",
       "2018-12  绿盟科技   大客户部  陈士明       HTCA-6600-SZLM-85整机（新）     3  293931.00   \n",
       "2018-07  启明星辰   业务一部  尹海洋           NAP-8865-QMXC-86整机    37   21811.97   \n",
       "2018-08  蓝盾股份  深圳业务部  王建中         FW-8877-GZLD-34整机（快）    40   19200.00   \n",
       "2018-10  绿盟科技   大客户部  陈士明       HTCA-6600-SZLM-82整机（新）     2  382077.00   \n",
       "2018-09    网神   业务一部  李艳龙  NAP-8896-360-01整机(新)   签核转正    23   31783.00   \n",
       "2018-07  启明星辰   业务一部  尹海洋           NAP-8865-QMXC-86整机    33   21811.97   \n",
       "2018-12   天融信   大客户部   李沛          FW-7576-TRX-46整机（新）   100    6246.00   \n",
       "\n",
       "            销售额  \n",
       "日期               \n",
       "2018-10  135.20  \n",
       "2018-12  103.60  \n",
       "2018-01   90.54  \n",
       "2018-12   88.18  \n",
       "2018-07   80.70  \n",
       "2018-08   76.80  \n",
       "2018-10   76.42  \n",
       "2018-09   73.10  \n",
       "2018-07   71.98  \n",
       "2018-12   62.46  "
      ]
     },
     "execution_count": 63,
     "metadata": {},
     "output_type": "execute_result"
    }
   ],
   "source": [
    "data_top10"
   ]
  },
  {
   "cell_type": "code",
   "execution_count": 64,
   "metadata": {
    "scrolled": true
   },
   "outputs": [
    {
     "data": {
      "text/plain": [
       "日期       客户简称\n",
       "2018-01  网神       90.54\n",
       "2018-07  启明星辰    152.68\n",
       "2018-08  蓝盾股份     76.80\n",
       "2018-09  网神       73.10\n",
       "2018-10  绿盟科技    211.62\n",
       "2018-12  天融信      62.46\n",
       "         绿盟科技     88.18\n",
       "         网神      103.60\n",
       "Name: 销售额, dtype: float64"
      ]
     },
     "execution_count": 64,
     "metadata": {},
     "output_type": "execute_result"
    }
   ],
   "source": [
    "data_top10.groupby(['日期','客户简称'])['销售额'].sum()"
   ]
  },
  {
   "cell_type": "code",
   "execution_count": 65,
   "metadata": {},
   "outputs": [
    {
     "data": {
      "text/plain": [
       "客户简称\n",
       "启明星辰    152.68\n",
       "天融信      62.46\n",
       "绿盟科技    299.80\n",
       "网神      267.24\n",
       "蓝盾股份     76.80\n",
       "Name: 销售额, dtype: float64"
      ]
     },
     "execution_count": 65,
     "metadata": {},
     "output_type": "execute_result"
    }
   ],
   "source": [
    "data_top10.groupby(['客户简称'])['销售额'].sum()"
   ]
  },
  {
   "cell_type": "code",
   "execution_count": 66,
   "metadata": {},
   "outputs": [
    {
     "data": {
      "text/plain": [
       "<matplotlib.axes._subplots.AxesSubplot at 0x195d8876ba8>"
      ]
     },
     "execution_count": 66,
     "metadata": {},
     "output_type": "execute_result"
    },
    {
     "data": {
      "image/png": "[encoded data removed]",
      "text/plain": [
       "<matplotlib.figure.Figure at 0x195cfc9f6d8>"
      ]
     },
     "metadata": {},
     "output_type": "display_data"
    }
   ],
   "source": [
    "data_top10.groupby(['客户简称'])['销售额'].sum().plot.bar(rot=0)"
   ]
  },
  {
   "cell_type": "code",
   "execution_count": 67,
   "metadata": {
    "scrolled": true
   },
   "outputs": [
    {
     "data": {
      "text/plain": [
       "客户简称\n",
       "深信服        9112.12\n",
       "网御星云       4495.99\n",
       "启明星辰       4437.01\n",
       "绿盟科技       4055.94\n",
       "安恒信息       2373.76\n",
       "天融信        1971.27\n",
       "网神         1856.51\n",
       "东软集团       1409.26\n",
       "信锐网科       1158.89\n",
       "杭州合众        633.54\n",
       "格尔软件        591.00\n",
       "蓝盾股份        485.00\n",
       "深信服科技（香     316.49\n",
       "山石网科        224.73\n",
       "南京铱迅        112.19\n",
       "中新网络        111.00\n",
       "傲盾           97.93\n",
       "志翔科技         59.75\n",
       "东进           56.70\n",
       "赛特斯          53.59\n",
       "天元特通         36.65\n",
       "中国科学院        34.43\n",
       "金创鑫诚         32.24\n",
       "南京创网         31.00\n",
       "典基网络         29.85\n",
       "北京恒通博联       26.00\n",
       "瑞星网安         25.18\n",
       "武汉市合力        22.17\n",
       "韵盛发          20.07\n",
       "太一星晨         17.75\n",
       "            ...   \n",
       "江苏未来网络        6.09\n",
       "阿里云计算         5.00\n",
       "广州韵成          4.68\n",
       "上海循态          4.48\n",
       "广州热点          4.04\n",
       "深圳市奥联         4.00\n",
       "北京卫达信息        3.73\n",
       "南京北路          3.35\n",
       "北京安数          2.93\n",
       "华夏创新          2.77\n",
       "珠海伟思          2.20\n",
       "上海春讯          2.19\n",
       "网康科技          2.12\n",
       "中宇万通          1.82\n",
       "锐捷网络          1.76\n",
       "上海集士达         1.73\n",
       "攀克网络          1.52\n",
       "南京优米亚         1.10\n",
       "广州安朗          1.06\n",
       "颐鑫汇明          0.93\n",
       "北京盛世江川        0.84\n",
       "其它            0.57\n",
       "任子行           0.39\n",
       "南京智达康         0.20\n",
       "成都世纪顶点        0.14\n",
       "岭博科技          0.12\n",
       "信诺瑞得          0.09\n",
       "天津赢达信         0.09\n",
       "绿盟平台          0.00\n",
       "金文凯           0.00\n",
       "Name: 销售额, Length: 75, dtype: float64"
      ]
     },
     "execution_count": 67,
     "metadata": {},
     "output_type": "execute_result"
    }
   ],
   "source": [
    "s=data.groupby('客户简称')['销售额'].sum().sort_values(ascending=False)\n",
    "s"
   ]
  },
  {
   "cell_type": "code",
   "execution_count": 68,
   "metadata": {
    "scrolled": true
   },
   "outputs": [
    {
     "data": {
      "text/plain": [
       "客户简称\n",
       "深信服     9112.12\n",
       "网御星云    4495.99\n",
       "启明星辰    4437.01\n",
       "绿盟科技    4055.94\n",
       "Name: 销售额, dtype: float64"
      ]
     },
     "execution_count": 68,
     "metadata": {},
     "output_type": "execute_result"
    }
   ],
   "source": [
    "s[s>4000]"
   ]
  },
  {
   "cell_type": "code",
   "execution_count": 69,
   "metadata": {},
   "outputs": [
    {
     "data": {
      "text/plain": [
       "Index(['深信服', '网御星云', '启明星辰', '绿盟科技'], dtype='object', name='客户简称')"
      ]
     },
     "execution_count": 69,
     "metadata": {},
     "output_type": "execute_result"
    }
   ],
   "source": [
    "kehu=s[s>4000].index\n",
    "kehu"
   ]
  },
  {
   "cell_type": "code",
   "execution_count": 70,
   "metadata": {
    "scrolled": true
   },
   "outputs": [],
   "source": [
    "data2=data[data['客户简称'].isin(kehu)]"
   ]
  },
  {
   "cell_type": "code",
   "execution_count": 71,
   "metadata": {},
   "outputs": [
    {
     "data": {
      "text/html": [
       "<div>\n",
       "<style scoped>\n",
       "    .dataframe tbody tr th:only-of-type {\n",
       "        vertical-align: middle;\n",
       "    }\n",
       "\n",
       "    .dataframe tbody tr th {\n",
       "        vertical-align: top;\n",
       "    }\n",
       "\n",
       "    .dataframe thead th {\n",
       "        text-align: right;\n",
       "    }\n",
       "</style>\n",
       "<table border=\"1\" class=\"dataframe\">\n",
       "  <thead>\n",
       "    <tr style=\"text-align: right;\">\n",
       "      <th></th>\n",
       "      <th>客户简称</th>\n",
       "      <th>部门</th>\n",
       "      <th>业务员</th>\n",
       "      <th>品  名</th>\n",
       "      <th>销货数量</th>\n",
       "      <th>单价</th>\n",
       "      <th>销售额</th>\n",
       "    </tr>\n",
       "    <tr>\n",
       "      <th>日期</th>\n",
       "      <th></th>\n",
       "      <th></th>\n",
       "      <th></th>\n",
       "      <th></th>\n",
       "      <th></th>\n",
       "      <th></th>\n",
       "      <th></th>\n",
       "    </tr>\n",
       "  </thead>\n",
       "  <tbody>\n",
       "    <tr>\n",
       "      <th>2018-01</th>\n",
       "      <td>网御星云</td>\n",
       "      <td>业务一部</td>\n",
       "      <td>张勇亮</td>\n",
       "      <td>NAP-8865-LX-71整机</td>\n",
       "      <td>5</td>\n",
       "      <td>8600.0</td>\n",
       "      <td>4.30</td>\n",
       "    </tr>\n",
       "    <tr>\n",
       "      <th>2018-05</th>\n",
       "      <td>网御星云</td>\n",
       "      <td>业务二部</td>\n",
       "      <td>尹海洋</td>\n",
       "      <td>NAP-8865-LX-71整机</td>\n",
       "      <td>5</td>\n",
       "      <td>8526.5</td>\n",
       "      <td>4.26</td>\n",
       "    </tr>\n",
       "    <tr>\n",
       "      <th>2018-06</th>\n",
       "      <td>网御星云</td>\n",
       "      <td>业务一部</td>\n",
       "      <td>尹海洋</td>\n",
       "      <td>NAP-8865-LX-71整机</td>\n",
       "      <td>5</td>\n",
       "      <td>8526.5</td>\n",
       "      <td>4.26</td>\n",
       "    </tr>\n",
       "    <tr>\n",
       "      <th>2018-06</th>\n",
       "      <td>网御星云</td>\n",
       "      <td>业务一部</td>\n",
       "      <td>尹海洋</td>\n",
       "      <td>NAP-8865X-LX-77整机</td>\n",
       "      <td>5</td>\n",
       "      <td>11000.0</td>\n",
       "      <td>5.50</td>\n",
       "    </tr>\n",
       "    <tr>\n",
       "      <th>2018-06</th>\n",
       "      <td>网御星云</td>\n",
       "      <td>业务一部</td>\n",
       "      <td>尹海洋</td>\n",
       "      <td>NAP-8865X-LX-77整机</td>\n",
       "      <td>1</td>\n",
       "      <td>11000.0</td>\n",
       "      <td>1.10</td>\n",
       "    </tr>\n",
       "  </tbody>\n",
       "</table>\n",
       "</div>"
      ],
      "text/plain": [
       "         客户简称    部门  业务员               品  名  销货数量       单价   销售额\n",
       "日期                                                              \n",
       "2018-01  网御星云  业务一部  张勇亮   NAP-8865-LX-71整机     5   8600.0  4.30\n",
       "2018-05  网御星云  业务二部  尹海洋   NAP-8865-LX-71整机     5   8526.5  4.26\n",
       "2018-06  网御星云  业务一部  尹海洋   NAP-8865-LX-71整机     5   8526.5  4.26\n",
       "2018-06  网御星云  业务一部  尹海洋  NAP-8865X-LX-77整机     5  11000.0  5.50\n",
       "2018-06  网御星云  业务一部  尹海洋  NAP-8865X-LX-77整机     1  11000.0  1.10"
      ]
     },
     "execution_count": 71,
     "metadata": {},
     "output_type": "execute_result"
    }
   ],
   "source": [
    "data2.head()"
   ]
  },
  {
   "cell_type": "code",
   "execution_count": 72,
   "metadata": {},
   "outputs": [
    {
     "data": {
      "text/plain": [
       "array(['网御星云', '启明星辰', '深信服', '绿盟科技'], dtype=object)"
      ]
     },
     "execution_count": 72,
     "metadata": {},
     "output_type": "execute_result"
    }
   ],
   "source": [
    "data2['客户简称'].unique()"
   ]
  },
  {
   "cell_type": "code",
   "execution_count": 73,
   "metadata": {},
   "outputs": [],
   "source": [
    "data2.to_excel(r'E:\\data\\2018mainsale.xlsx')"
   ]
  },
  {
   "cell_type": "code",
   "execution_count": 74,
   "metadata": {},
   "outputs": [],
   "source": [
    "data2=pd.read_excel(r'E:\\data\\2018mainsale.xlsx',index_col='日期')"
   ]
  },
  {
   "cell_type": "code",
   "execution_count": 75,
   "metadata": {},
   "outputs": [
    {
     "data": {
      "text/html": [
       "<div>\n",
       "<style scoped>\n",
       "    .dataframe tbody tr th:only-of-type {\n",
       "        vertical-align: middle;\n",
       "    }\n",
       "\n",
       "    .dataframe tbody tr th {\n",
       "        vertical-align: top;\n",
       "    }\n",
       "\n",
       "    .dataframe thead th {\n",
       "        text-align: right;\n",
       "    }\n",
       "</style>\n",
       "<table border=\"1\" class=\"dataframe\">\n",
       "  <thead>\n",
       "    <tr style=\"text-align: right;\">\n",
       "      <th></th>\n",
       "      <th>客户简称</th>\n",
       "      <th>部门</th>\n",
       "      <th>业务员</th>\n",
       "      <th>品  名</th>\n",
       "      <th>销货数量</th>\n",
       "      <th>单价</th>\n",
       "      <th>销售额</th>\n",
       "    </tr>\n",
       "    <tr>\n",
       "      <th>日期</th>\n",
       "      <th></th>\n",
       "      <th></th>\n",
       "      <th></th>\n",
       "      <th></th>\n",
       "      <th></th>\n",
       "      <th></th>\n",
       "      <th></th>\n",
       "    </tr>\n",
       "  </thead>\n",
       "  <tbody>\n",
       "    <tr>\n",
       "      <th>2018-01-01</th>\n",
       "      <td>网御星云</td>\n",
       "      <td>业务一部</td>\n",
       "      <td>张勇亮</td>\n",
       "      <td>NAP-8865-LX-71整机</td>\n",
       "      <td>5</td>\n",
       "      <td>8600.0</td>\n",
       "      <td>4.30</td>\n",
       "    </tr>\n",
       "    <tr>\n",
       "      <th>2018-05-01</th>\n",
       "      <td>网御星云</td>\n",
       "      <td>业务二部</td>\n",
       "      <td>尹海洋</td>\n",
       "      <td>NAP-8865-LX-71整机</td>\n",
       "      <td>5</td>\n",
       "      <td>8526.5</td>\n",
       "      <td>4.26</td>\n",
       "    </tr>\n",
       "    <tr>\n",
       "      <th>2018-06-01</th>\n",
       "      <td>网御星云</td>\n",
       "      <td>业务一部</td>\n",
       "      <td>尹海洋</td>\n",
       "      <td>NAP-8865-LX-71整机</td>\n",
       "      <td>5</td>\n",
       "      <td>8526.5</td>\n",
       "      <td>4.26</td>\n",
       "    </tr>\n",
       "    <tr>\n",
       "      <th>2018-06-01</th>\n",
       "      <td>网御星云</td>\n",
       "      <td>业务一部</td>\n",
       "      <td>尹海洋</td>\n",
       "      <td>NAP-8865X-LX-77整机</td>\n",
       "      <td>5</td>\n",
       "      <td>11000.0</td>\n",
       "      <td>5.50</td>\n",
       "    </tr>\n",
       "    <tr>\n",
       "      <th>2018-06-01</th>\n",
       "      <td>网御星云</td>\n",
       "      <td>业务一部</td>\n",
       "      <td>尹海洋</td>\n",
       "      <td>NAP-8865X-LX-77整机</td>\n",
       "      <td>1</td>\n",
       "      <td>11000.0</td>\n",
       "      <td>1.10</td>\n",
       "    </tr>\n",
       "  </tbody>\n",
       "</table>\n",
       "</div>"
      ],
      "text/plain": [
       "            客户简称    部门  业务员               品  名  销货数量       单价   销售额\n",
       "日期                                                                 \n",
       "2018-01-01  网御星云  业务一部  张勇亮   NAP-8865-LX-71整机     5   8600.0  4.30\n",
       "2018-05-01  网御星云  业务二部  尹海洋   NAP-8865-LX-71整机     5   8526.5  4.26\n",
       "2018-06-01  网御星云  业务一部  尹海洋   NAP-8865-LX-71整机     5   8526.5  4.26\n",
       "2018-06-01  网御星云  业务一部  尹海洋  NAP-8865X-LX-77整机     5  11000.0  5.50\n",
       "2018-06-01  网御星云  业务一部  尹海洋  NAP-8865X-LX-77整机     1  11000.0  1.10"
      ]
     },
     "execution_count": 75,
     "metadata": {},
     "output_type": "execute_result"
    }
   ],
   "source": [
    "data2.head()"
   ]
  },
  {
   "cell_type": "code",
   "execution_count": 76,
   "metadata": {},
   "outputs": [
    {
     "data": {
      "text/html": [
       "<div>\n",
       "<style scoped>\n",
       "    .dataframe tbody tr th:only-of-type {\n",
       "        vertical-align: middle;\n",
       "    }\n",
       "\n",
       "    .dataframe tbody tr th {\n",
       "        vertical-align: top;\n",
       "    }\n",
       "\n",
       "    .dataframe thead th {\n",
       "        text-align: right;\n",
       "    }\n",
       "</style>\n",
       "<table border=\"1\" class=\"dataframe\">\n",
       "  <thead>\n",
       "    <tr style=\"text-align: right;\">\n",
       "      <th></th>\n",
       "      <th></th>\n",
       "      <th>客户简称</th>\n",
       "      <th>部门</th>\n",
       "      <th>业务员</th>\n",
       "      <th>品  名</th>\n",
       "      <th>销货数量</th>\n",
       "      <th>单价</th>\n",
       "      <th>销售额</th>\n",
       "    </tr>\n",
       "    <tr>\n",
       "      <th>部门</th>\n",
       "      <th>日期</th>\n",
       "      <th></th>\n",
       "      <th></th>\n",
       "      <th></th>\n",
       "      <th></th>\n",
       "      <th></th>\n",
       "      <th></th>\n",
       "      <th></th>\n",
       "    </tr>\n",
       "  </thead>\n",
       "  <tbody>\n",
       "    <tr>\n",
       "      <th rowspan=\"3\" valign=\"top\">业务一部</th>\n",
       "      <th>2018-07-01</th>\n",
       "      <td>启明星辰</td>\n",
       "      <td>业务一部</td>\n",
       "      <td>尹海洋</td>\n",
       "      <td>NAP-8865-QMXC-86整机</td>\n",
       "      <td>37</td>\n",
       "      <td>21811.97</td>\n",
       "      <td>80.70</td>\n",
       "    </tr>\n",
       "    <tr>\n",
       "      <th>2018-07-01</th>\n",
       "      <td>启明星辰</td>\n",
       "      <td>业务一部</td>\n",
       "      <td>尹海洋</td>\n",
       "      <td>NAP-8865-QMXC-86整机</td>\n",
       "      <td>33</td>\n",
       "      <td>21811.97</td>\n",
       "      <td>71.98</td>\n",
       "    </tr>\n",
       "    <tr>\n",
       "      <th>2018-03-01</th>\n",
       "      <td>网御星云</td>\n",
       "      <td>业务一部</td>\n",
       "      <td>张勇亮</td>\n",
       "      <td>NAP-7582-QMXC-151整机（新）</td>\n",
       "      <td>50</td>\n",
       "      <td>10290.00</td>\n",
       "      <td>51.45</td>\n",
       "    </tr>\n",
       "    <tr>\n",
       "      <th rowspan=\"3\" valign=\"top\">业务三部</th>\n",
       "      <th>2018-08-01</th>\n",
       "      <td>绿盟科技</td>\n",
       "      <td>业务三部</td>\n",
       "      <td>陈士明</td>\n",
       "      <td>NAP-7583-SZLM-27整机</td>\n",
       "      <td>52</td>\n",
       "      <td>4858.00</td>\n",
       "      <td>25.26</td>\n",
       "    </tr>\n",
       "    <tr>\n",
       "      <th>2018-07-01</th>\n",
       "      <td>绿盟科技</td>\n",
       "      <td>业务三部</td>\n",
       "      <td>陈士明</td>\n",
       "      <td>NAP-7583-SZLM-27整机</td>\n",
       "      <td>48</td>\n",
       "      <td>4900.00</td>\n",
       "      <td>23.52</td>\n",
       "    </tr>\n",
       "    <tr>\n",
       "      <th>2018-09-01</th>\n",
       "      <td>绿盟科技</td>\n",
       "      <td>业务三部</td>\n",
       "      <td>陈士明</td>\n",
       "      <td>&amp;CPU     (无CAS)</td>\n",
       "      <td>20</td>\n",
       "      <td>11685.00</td>\n",
       "      <td>23.37</td>\n",
       "    </tr>\n",
       "    <tr>\n",
       "      <th rowspan=\"3\" valign=\"top\">业务二部</th>\n",
       "      <th>2018-05-01</th>\n",
       "      <td>启明星辰</td>\n",
       "      <td>业务二部</td>\n",
       "      <td>尹海洋</td>\n",
       "      <td>NAP-8895T-QMXC-94整机（新）</td>\n",
       "      <td>15</td>\n",
       "      <td>30239.32</td>\n",
       "      <td>45.36</td>\n",
       "    </tr>\n",
       "    <tr>\n",
       "      <th>2018-05-01</th>\n",
       "      <td>网御星云</td>\n",
       "      <td>业务二部</td>\n",
       "      <td>尹海洋</td>\n",
       "      <td>NAP-8895-WYXY-06整机（新）</td>\n",
       "      <td>10</td>\n",
       "      <td>31900.00</td>\n",
       "      <td>31.90</td>\n",
       "    </tr>\n",
       "    <tr>\n",
       "      <th>2018-05-01</th>\n",
       "      <td>启明星辰</td>\n",
       "      <td>业务二部</td>\n",
       "      <td>尹海洋</td>\n",
       "      <td>NAP-7582o-WYXY-23整机（新）</td>\n",
       "      <td>30</td>\n",
       "      <td>8229.06</td>\n",
       "      <td>24.69</td>\n",
       "    </tr>\n",
       "    <tr>\n",
       "      <th rowspan=\"3\" valign=\"top\">售后服务部</th>\n",
       "      <th>2018-08-01</th>\n",
       "      <td>网御星云</td>\n",
       "      <td>售后服务部</td>\n",
       "      <td>刘宇思</td>\n",
       "      <td>电源</td>\n",
       "      <td>20</td>\n",
       "      <td>830.00</td>\n",
       "      <td>1.66</td>\n",
       "    </tr>\n",
       "    <tr>\n",
       "      <th>2018-08-01</th>\n",
       "      <td>网御星云</td>\n",
       "      <td>售后服务部</td>\n",
       "      <td>刘宇思</td>\n",
       "      <td>机箱</td>\n",
       "      <td>20</td>\n",
       "      <td>300.00</td>\n",
       "      <td>0.60</td>\n",
       "    </tr>\n",
       "    <tr>\n",
       "      <th>2018-08-01</th>\n",
       "      <td>网御星云</td>\n",
       "      <td>售后服务部</td>\n",
       "      <td>刘宇思</td>\n",
       "      <td>扩展模块</td>\n",
       "      <td>1</td>\n",
       "      <td>4200.00</td>\n",
       "      <td>0.42</td>\n",
       "    </tr>\n",
       "    <tr>\n",
       "      <th rowspan=\"3\" valign=\"top\">大客户部</th>\n",
       "      <th>2018-10-01</th>\n",
       "      <td>绿盟科技</td>\n",
       "      <td>大客户部</td>\n",
       "      <td>陈士明</td>\n",
       "      <td>HTCA-6600-SZLM-81整机（新）</td>\n",
       "      <td>4</td>\n",
       "      <td>338004.00</td>\n",
       "      <td>135.20</td>\n",
       "    </tr>\n",
       "    <tr>\n",
       "      <th>2018-12-01</th>\n",
       "      <td>绿盟科技</td>\n",
       "      <td>大客户部</td>\n",
       "      <td>陈士明</td>\n",
       "      <td>HTCA-6600-SZLM-85整机（新）</td>\n",
       "      <td>3</td>\n",
       "      <td>293931.00</td>\n",
       "      <td>88.18</td>\n",
       "    </tr>\n",
       "    <tr>\n",
       "      <th>2018-10-01</th>\n",
       "      <td>绿盟科技</td>\n",
       "      <td>大客户部</td>\n",
       "      <td>陈士明</td>\n",
       "      <td>HTCA-6600-SZLM-82整机（新）</td>\n",
       "      <td>2</td>\n",
       "      <td>382077.00</td>\n",
       "      <td>76.42</td>\n",
       "    </tr>\n",
       "    <tr>\n",
       "      <th rowspan=\"3\" valign=\"top\">深圳业务部</th>\n",
       "      <th>2018-08-01</th>\n",
       "      <td>深信服</td>\n",
       "      <td>深圳业务部</td>\n",
       "      <td>李延刚</td>\n",
       "      <td>NAP-8896-SXF-1034整机1.001.023.C201807030021-0</td>\n",
       "      <td>11</td>\n",
       "      <td>42300.00</td>\n",
       "      <td>46.53</td>\n",
       "    </tr>\n",
       "    <tr>\n",
       "      <th>2018-11-01</th>\n",
       "      <td>深信服</td>\n",
       "      <td>深圳业务部</td>\n",
       "      <td>李延刚</td>\n",
       "      <td>NAP-8895-SXF-1128整机（新）1.006.044.C201810190027-0</td>\n",
       "      <td>21</td>\n",
       "      <td>20700.00</td>\n",
       "      <td>43.47</td>\n",
       "    </tr>\n",
       "    <tr>\n",
       "      <th>2018-11-01</th>\n",
       "      <td>深信服</td>\n",
       "      <td>深圳业务部</td>\n",
       "      <td>李延刚</td>\n",
       "      <td>NAP-7582-SXF-852整机（新）</td>\n",
       "      <td>46</td>\n",
       "      <td>7300.00</td>\n",
       "      <td>33.58</td>\n",
       "    </tr>\n",
       "  </tbody>\n",
       "</table>\n",
       "</div>"
      ],
      "text/plain": [
       "                  客户简称     部门  业务员  \\\n",
       "部门    日期                             \n",
       "业务一部  2018-07-01  启明星辰   业务一部  尹海洋   \n",
       "      2018-07-01  启明星辰   业务一部  尹海洋   \n",
       "      2018-03-01  网御星云   业务一部  张勇亮   \n",
       "业务三部  2018-08-01  绿盟科技   业务三部  陈士明   \n",
       "      2018-07-01  绿盟科技   业务三部  陈士明   \n",
       "      2018-09-01  绿盟科技   业务三部  陈士明   \n",
       "业务二部  2018-05-01  启明星辰   业务二部  尹海洋   \n",
       "      2018-05-01  网御星云   业务二部  尹海洋   \n",
       "      2018-05-01  启明星辰   业务二部  尹海洋   \n",
       "售后服务部 2018-08-01  网御星云  售后服务部  刘宇思   \n",
       "      2018-08-01  网御星云  售后服务部  刘宇思   \n",
       "      2018-08-01  网御星云  售后服务部  刘宇思   \n",
       "大客户部  2018-10-01  绿盟科技   大客户部  陈士明   \n",
       "      2018-12-01  绿盟科技   大客户部  陈士明   \n",
       "      2018-10-01  绿盟科技   大客户部  陈士明   \n",
       "深圳业务部 2018-08-01   深信服  深圳业务部  李延刚   \n",
       "      2018-11-01   深信服  深圳业务部  李延刚   \n",
       "      2018-11-01   深信服  深圳业务部  李延刚   \n",
       "\n",
       "                                                             品  名  销货数量  \\\n",
       "部门    日期                                                                  \n",
       "业务一部  2018-07-01                               NAP-8865-QMXC-86整机    37   \n",
       "      2018-07-01                               NAP-8865-QMXC-86整机    33   \n",
       "      2018-03-01                           NAP-7582-QMXC-151整机（新）    50   \n",
       "业务三部  2018-08-01                               NAP-7583-SZLM-27整机    52   \n",
       "      2018-07-01                               NAP-7583-SZLM-27整机    48   \n",
       "      2018-09-01                                  &CPU     (无CAS)    20   \n",
       "业务二部  2018-05-01                           NAP-8895T-QMXC-94整机（新）    15   \n",
       "      2018-05-01                            NAP-8895-WYXY-06整机（新）    10   \n",
       "      2018-05-01                           NAP-7582o-WYXY-23整机（新）    30   \n",
       "售后服务部 2018-08-01                                               电源    20   \n",
       "      2018-08-01                                               机箱    20   \n",
       "      2018-08-01                                             扩展模块     1   \n",
       "大客户部  2018-10-01                           HTCA-6600-SZLM-81整机（新）     4   \n",
       "      2018-12-01                           HTCA-6600-SZLM-85整机（新）     3   \n",
       "      2018-10-01                           HTCA-6600-SZLM-82整机（新）     2   \n",
       "深圳业务部 2018-08-01     NAP-8896-SXF-1034整机1.001.023.C201807030021-0    11   \n",
       "      2018-11-01  NAP-8895-SXF-1128整机（新）1.006.044.C201810190027-0    21   \n",
       "      2018-11-01                            NAP-7582-SXF-852整机（新）    46   \n",
       "\n",
       "                         单价     销售额  \n",
       "部门    日期                             \n",
       "业务一部  2018-07-01   21811.97   80.70  \n",
       "      2018-07-01   21811.97   71.98  \n",
       "      2018-03-01   10290.00   51.45  \n",
       "业务三部  2018-08-01    4858.00   25.26  \n",
       "      2018-07-01    4900.00   23.52  \n",
       "      2018-09-01   11685.00   23.37  \n",
       "业务二部  2018-05-01   30239.32   45.36  \n",
       "      2018-05-01   31900.00   31.90  \n",
       "      2018-05-01    8229.06   24.69  \n",
       "售后服务部 2018-08-01     830.00    1.66  \n",
       "      2018-08-01     300.00    0.60  \n",
       "      2018-08-01    4200.00    0.42  \n",
       "大客户部  2018-10-01  338004.00  135.20  \n",
       "      2018-12-01  293931.00   88.18  \n",
       "      2018-10-01  382077.00   76.42  \n",
       "深圳业务部 2018-08-01   42300.00   46.53  \n",
       "      2018-11-01   20700.00   43.47  \n",
       "      2018-11-01    7300.00   33.58  "
      ]
     },
     "execution_count": 76,
     "metadata": {},
     "output_type": "execute_result"
    }
   ],
   "source": [
    "data2.groupby('部门').apply(lambda x:x.sort_values('销售额',ascending=False)[:3]) #各部门销售额最多的三笔"
   ]
  },
  {
   "cell_type": "code",
   "execution_count": null,
   "metadata": {},
   "outputs": [],
   "source": []
  },
  {
   "cell_type": "code",
   "execution_count": 77,
   "metadata": {},
   "outputs": [],
   "source": [
    "import IPython.core.display as di "
   ]
  },
  {
   "cell_type": "code",
   "execution_count": 78,
   "metadata": {},
   "outputs": [
    {
     "data": {
      "text/html": [
       "<script>jQuery(function(){if(jQuery(\"body.notebook_app\").length == 0) { jQuery(\".input_area\").toggle(); jQuery(\".prompt\").toggle();}});</script>"
      ]
     },
     "metadata": {},
     "output_type": "display_data"
    }
   ],
   "source": [
    "di.display_html('<script>jQuery(function(){if(jQuery(\"body.notebook_app\").length == 0) { jQuery(\".input_area\").toggle(); jQuery(\".prompt\").toggle();}});</script>', raw=True)"
   ]
  },
  {
   "cell_type": "code",
   "execution_count": null,
   "metadata": {},
   "outputs": [],
   "source": []
  }
 ],
 "metadata": {
  "kernelspec": {
   "display_name": "Python 3",
   "language": "python",
   "name": "python3"
  },
  "language_info": {
   "codemirror_mode": {
    "name": "ipython",
    "version": 3
   },
   "file_extension": ".py",
   "mimetype": "text/x-python",
   "name": "python",
   "nbconvert_exporter": "python",
   "pygments_lexer": "ipython3",
   "version": "3.6.4"
  }
 },
 "nbformat": 4,
 "nbformat_minor": 2
}
